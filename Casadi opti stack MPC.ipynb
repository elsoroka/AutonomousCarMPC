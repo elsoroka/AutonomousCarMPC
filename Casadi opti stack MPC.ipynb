{
 "cells": [
  {
   "cell_type": "markdown",
   "metadata": {},
   "source": [
    "# CASADI Opti stack rewrite \n",
    "Fix all the god damn bugs"
   ]
  },
  {
   "cell_type": "markdown",
   "metadata": {},
   "source": [
    "Assume we have a discrete-time model:\n",
    "$$x_{t+1} = f(x_t, u_t)$$\n",
    "Denote a whole MPC trajectory, with states $x_0,x_1,\\dots,x_N$ and controls $u_1,\\dots,u_N$ as $\\mathbf{x}$ and $\\mathbf{u}$.\n",
    "\n",
    "We have positional constraints:\n",
    "$$Ax \\leq b$$\n",
    "\n",
    "We have some interval constraints:\n",
    "$$x_{min} \\leq x_t \\leq x_{max},\\ i=0,\\dots,N$$\n",
    "$$u_{min} \\leq u_t \\leq u_{max},\\ i=1,\\dots,N$$\n",
    "\n",
    "We have multiobjective weighted cost function which is probably quadratic.\n",
    "    $$J(\\mathbf{x}, \\mathbf{u})$$"
   ]
  },
  {
   "cell_type": "markdown",
   "metadata": {},
   "source": [
    "The nonlinear model is:\n",
    "\\begin{gather*}\n",
    "\\begin{bmatrix}\n",
    "\\dot x\\\\ \\dot y\\\\ \\dot v\\\\ \\dot\\psi\n",
    "%\\\\ \\dot\\beta\n",
    "\\end{bmatrix} =\n",
    "\\begin{bmatrix}\n",
    "v\\cos(\\psi + \\beta)\n",
    "\\\\\n",
    "v\\sin(\\psi + \\beta)\n",
    "\\\\\n",
    "a\n",
    "\\\\\n",
    "\\frac{v}{l_r}\\sin(\\beta)\n",
    "%\\\\\n",
    "%\\frac{v}{l_f + l_r}\\tan(\\delta_f) - \\frac{v}{l_r}\\sin(\\beta)\n",
    "\\end{bmatrix}, \\quad \\beta = \\tan^{-1}\\Big(\\frac{l_r}{l_r + l_f}\\tan(\\delta_f)\\Big)\n",
    "\\end{gather*}\n"
   ]
  },
  {
   "cell_type": "markdown",
   "metadata": {},
   "source": [
    "Assume zero-order-hold on the controls. and $t$, $t+1$ are separated by time $\\Delta t$. A very easy discretization is $x_{t+1} = x_t + \\dot x_t \\Delta t$"
   ]
  },
  {
   "cell_type": "code",
   "execution_count": null,
   "metadata": {},
   "outputs": [],
   "source": [
    "# Library dependencies\n",
    "import casadi            as ca\n",
    "import numpy             as np\n",
    "import matplotlib.pyplot as plt\n",
    "import matplotlib        as mpl\n",
    "\n",
    "# Local dependencies\n",
    "from roadrunner_2        import Roadrunner, Segment, OutOfRoadPointsException\n",
    "from KinematicModel import KinematicBicycle\n",
    "\n",
    "model = KinematicBicycle(\"base_vehicle_model.json\")\n",
    "\n",
    "N = 30\n",
    "step=0.05\n",
    "\n",
    "# system size\n",
    "n = 4\n",
    "m = 2\n",
    "\n",
    "# the 2 vehicle parameters are model.lr and model.lf"
   ]
  },
  {
   "cell_type": "code",
   "execution_count": null,
   "metadata": {},
   "outputs": [],
   "source": [
    "from road                import iso_double_lane_change as test_road\n",
    "test_road_width = 5.0*np.ones(np.size(test_road)//2)\n",
    "DESIRED_SPEED = 10.0\n",
    "n_test_road_pts,_ = np.shape(test_road)\n",
    "\n",
    "roadrunner = Roadrunner(road_center = test_road, # Road centerline points\n",
    "                        road_width  = test_road_width,\n",
    "                        P           = np.size(test_road_width)-1,\n",
    "                       start_pct = 0.0, end_pct = 1.0) # Number of points to try curve-fitting at a time\n",
    "roadrunner.reset()\n",
    "# start a bit ahead of the first point to have space for looking back on the road\n",
    "roadrunner.advance(step*20*DESIRED_SPEED)\n",
    "\n",
    "def desired_speed(k:int):\n",
    "    return DESIRED_SPEED\n",
    "\n",
    "xy = np.reshape(roadrunner.evaluate(),(2,))\n",
    "ic = [xy[0], xy[1], DESIRED_SPEED, float(roadrunner.get_angle())]"
   ]
  },
  {
   "cell_type": "code",
   "execution_count": null,
   "metadata": {},
   "outputs": [],
   "source": [
    "from scipy.integrate import ode\n",
    "def f(t, z, u):\n",
    "    x_i, y_i, v_i, psi_i = z[0], z[1], z[2], z[3]\n",
    "    a_i, delta_f_i = u[0], u[1]\n",
    "    beta = np.arctan(model.lr/(model.lr+model.lf)*np.tan(delta_f_i))\n",
    "    return [\n",
    "        v_i*np.cos(psi_i + beta),\n",
    "        v_i*np.sin(psi_i + beta),\n",
    "        a_i,\n",
    "        v_i/model.lr*np.sin(beta),\n",
    "    ]\n",
    "def move_forward(z0, u0, step):\n",
    "\n",
    "    r = ode(f)\n",
    "\n",
    "    r.set_initial_value(z0, 0.0).set_f_params(u0)\n",
    "    return r.integrate(r.t+step)"
   ]
  },
  {
   "cell_type": "code",
   "execution_count": null,
   "metadata": {},
   "outputs": [],
   "source": [
    "def run_mpc_iteration(z0, coeffs):\n",
    "    # z0: initial state\n",
    "    # coeffs: cost weights\n",
    "    opti = ca.Opti()\n",
    "    z0_body = roadrunner.to_body_frame(np.reshape(z0[0:2],(1,2)), angle=z0[-1], offset=z0[0:2])\n",
    "    z_prev = np.array([z0_body[0,0], z0_body[0,1],z0[2],0.0])\n",
    "    u_prev = np.zeros(m)\n",
    "    z = opti.variable(n*N)\n",
    "    \n",
    "    u = opti.variable(m*N)\n",
    "    \n",
    "    z_guess = np.zeros(n*N)\n",
    "    u_guess = np.zeros(m*N)\n",
    "\n",
    "    jerk_cost = 0.0\n",
    "    steering_change_cost = 0.0\n",
    "    attractive_cost = 0.0\n",
    "\n",
    "    for i in range(N):\n",
    "        z_i = z[i*n:(i+1)*n]\n",
    "        u_i = u[i*m:(i+1)*m]\n",
    "        x_i, y_i, v_i, psi_i = z_i[0], z_i[1], z_i[2], z_i[3]\n",
    "        a_i, delta_f_i = u_i[0], u_i[1]\n",
    "\n",
    "        zdot = model.zdot(z_i,u_i)\n",
    "\n",
    "        jerk_cost += (u_i[0]-u_prev[0])**2\n",
    "        steering_change_cost += (u_i[1]-u_prev[1])**2\n",
    "        \n",
    "        v_des = desired_speed(i+1)\n",
    "        xy,psi,_ = roadrunner.evaluate((i+1)*step*v_des, full_data=True)\n",
    "        xy_prev,psi_prev,_ = roadrunner.evaluate((i+1)*step*v_des, full_data=True)\n",
    "        xy = roadrunner.to_body_frame(np.reshape(xy,(1,2)), angle=z0[-1], offset=z0[0:2])\n",
    "        psi = psi - z0[-1]\n",
    "        psi_prev = psi_prev - z0[-1]\n",
    "        \n",
    "        z_guess[i*n:(i+1)*n] = np.array([xy[0,0], xy[0,1],v_des, psi])\n",
    "        u_guess[i*m:(i+1)*m] = [(v_des-desired_speed(i))/step, (psi - psi_prev)/step]\n",
    "        attractive_cost += \\\n",
    "            (v_i-desired_speed(i))**2 + (psi_i-psi)**2 +\\\n",
    "            (x_i-xy[0,0])**2 + (y_i-xy[0,1])**2\n",
    "        \n",
    "        # Add the polygon bounds at step k                \n",
    "        #bounds, p = roadrunner.bound_x(step,i,desired_speed)\n",
    "\n",
    "        #for (ub, a, b, c, lb) in bounds:\n",
    "        #    if a != 0:\n",
    "        #        opti.subject_to(opti.bounded(lb,x_i*a + y_i*b + c,ub))\n",
    "        #    else:\n",
    "        #        opti.subject_to(opti.bounded(lb,y_i*b + c,ub))\n",
    "\n",
    "        z_lb, z_ub = model.z_bound()\n",
    "        opti.subject_to(opti.bounded(z_lb, z_i, z_ub))\n",
    "        u_lb, u_ub = model.u_bound()\n",
    "        opti.subject_to(opti.bounded(u_lb, u_i, u_ub))\n",
    "        opti.subject_to(opti.bounded(-1e-10, z_prev + step*zdot - z_i,1e-10))\n",
    "        z_prev = z_i\n",
    "\n",
    "    opti.set_initial(z, z_guess)\n",
    "    opti.minimize(jerk_cost*coeffs[0] + steering_change_cost*coeffs[1] + attractive_cost*coeffs[2])\n",
    "    opti.solver('ipopt')\n",
    "\n",
    "    sol = opti.solve()\n",
    "    z = sol.value(z)\n",
    "    u = sol.value(u)\n",
    "    z = np.reshape(z,(np.size(z)//n,n))\n",
    "    u = np.reshape(u,(np.size(u)//m,m))\n",
    "    z[:,0:2] = roadrunner.to_world_frame(z[:,0:2], angle=z0[-1], offset=z0[0:2])\n",
    "    z[:,3] += z0[-1]\n",
    "    return z,u"
   ]
  },
  {
   "cell_type": "code",
   "execution_count": null,
   "metadata": {
    "scrolled": true
   },
   "outputs": [],
   "source": [
    "def run_mpc_test(costs):\n",
    "    roadrunner.reset()\n",
    "    # start a bit ahead of the first point to have space for looking back on the road\n",
    "    roadrunner.advance(step*20*DESIRED_SPEED)\n",
    "\n",
    "    xy = np.reshape(roadrunner.evaluate(),(2,))\n",
    "    z0 = [xy[0], xy[1], DESIRED_SPEED, float(roadrunner.get_angle())]\n",
    "\n",
    "    runs = 600\n",
    "    z_history = np.zeros((runs,n))\n",
    "    u_history = np.zeros((runs,m))\n",
    "    r=0\n",
    "    try:\n",
    "        for i in range(runs):\n",
    "            z,u = run_mpc_iteration(z0, costs)\n",
    "\n",
    "            # stuff that doesn't have to do with control\n",
    "            #dist = step*z[1,2]\n",
    "\n",
    "            # save data\n",
    "            #z0 = z[0,:] # hack: [xy[0], xy[1], float(z[1,2]), float(roadrunner.get_angle())]\n",
    "            z0 = move_forward(z0, u[0,:], step)\n",
    "            dist = roadrunner.advance_xy(z0[0:2])\n",
    "            z_history[i,:] = z[0,:]\n",
    "            u_history[i,:] = u[0,:]\n",
    "            r = i\n",
    "    except OutOfRoadPointsException:\n",
    "        z_history = z_history[0:r,:]\n",
    "        u_history = u_history[0:r,:]\n",
    "    return z_history, u_history\n"
   ]
  },
  {
   "cell_type": "markdown",
   "metadata": {},
   "source": [
    "# Test runs: baseline CG"
   ]
  },
  {
   "cell_type": "code",
   "execution_count": null,
   "metadata": {},
   "outputs": [],
   "source": [
    "z_history_01,u_history_01 = run_mpc_test(np.array([100.0, 10.0*180.0/np.pi, 0.1]))"
   ]
  },
  {
   "cell_type": "code",
   "execution_count": null,
   "metadata": {},
   "outputs": [],
   "source": [
    "z_history_05,u_history_05 = run_mpc_test(np.array([100.0, 10.0*180.0/np.pi, 0.5]))"
   ]
  },
  {
   "cell_type": "code",
   "execution_count": null,
   "metadata": {},
   "outputs": [],
   "source": [
    "z_history_1,u_history_1 = run_mpc_test(np.array([100.0, 10.0*180.0/np.pi, 1.0]))"
   ]
  },
  {
   "cell_type": "code",
   "execution_count": null,
   "metadata": {},
   "outputs": [],
   "source": [
    "#z_history_5,u_history_5 = run_mpc_test(np.array([100.0, 10.0*180.0/np.pi, 5.0]))"
   ]
  },
  {
   "cell_type": "code",
   "execution_count": null,
   "metadata": {},
   "outputs": [],
   "source": [
    "#z_history_10,u_history_10 = run_mpc_test(np.array([100.0, 10.0*180.0/np.pi, 10.0]))"
   ]
  },
  {
   "cell_type": "markdown",
   "metadata": {},
   "source": [
    "# Test runs: CG 0.5m towards rear axle"
   ]
  },
  {
   "cell_type": "code",
   "execution_count": null,
   "metadata": {},
   "outputs": [],
   "source": [
    "model.lr -= 0.5 # Distance from CG to rear axle decreases\n",
    "model.lf += 0.5 # corresponding increase in CG-front axle distance\n",
    "z_history_01_cg_r05,u_history_01_cg_r05 = run_mpc_test(np.array([100.0, 10.0*180.0/np.pi, 0.1]))"
   ]
  },
  {
   "cell_type": "code",
   "execution_count": null,
   "metadata": {},
   "outputs": [],
   "source": [
    "z_history_05_cg_r05,u_history_05_cg_r05 = run_mpc_test(np.array([100.0, 10.0*180.0/np.pi, 0.5]))"
   ]
  },
  {
   "cell_type": "code",
   "execution_count": null,
   "metadata": {},
   "outputs": [],
   "source": [
    "z_history_1_cg_r05,u_history_1_cg_r05 = run_mpc_test(np.array([100.0, 10.0*180.0/np.pi, 1.0]))"
   ]
  },
  {
   "cell_type": "code",
   "execution_count": null,
   "metadata": {},
   "outputs": [],
   "source": [
    "#z_history_5_cg_r05,u_history_5_cg_r05 = run_mpc_test(np.array([100.0, 10.0*180.0/np.pi, 5.0]))"
   ]
  },
  {
   "cell_type": "code",
   "execution_count": null,
   "metadata": {},
   "outputs": [],
   "source": [
    "#z_history_10_cg_r05,u_history_10_cg_r05 = run_mpc_test(np.array([100.0, 10.0*180.0/np.pi, 10.0]))"
   ]
  },
  {
   "cell_type": "markdown",
   "metadata": {},
   "source": [
    "# Plotting"
   ]
  },
  {
   "cell_type": "code",
   "execution_count": null,
   "metadata": {},
   "outputs": [],
   "source": [
    "p = roadrunner.plot(n_points=100)\n",
    "\n",
    "p.plot(z_history_1[:,0], z_history_1[:,1], label=\"1.0\")\n",
    "p.plot(z_history_05[:,0], z_history_05[:,1], label=\"0.5\")\n",
    "p.plot(z_history_01[:,0], z_history_01[:,1], label=\"0.1\")\n",
    "p.plot(z_history_1_cg_r05[:,0], z_history_1_cg_r05[:,1], label=\"1.0 (rear CG)\")\n",
    "p.plot(z_history_05_cg_r05[:,0], z_history_05_cg_r05[:,1], label=\"0.5 (rear CG)\")\n",
    "p.plot(z_history_01_cg_r05[:,0], z_history_01_cg_r05[:,1], label=\"0.1 (rear CG)\")\n",
    "p.legend()\n",
    "plt.show()"
   ]
  },
  {
   "cell_type": "code",
   "execution_count": null,
   "metadata": {},
   "outputs": [],
   "source": [
    "#plt.plot(u_history_10[:,0], label=\"10.0\")\n",
    "#plt.plot(u_history_10_cg_r05[:,0], label=\"10.0\", linestyle='--')\n",
    "#plt.plot(u_history_5[:,0], label=\"5.0\")\n",
    "#plt.plot(u_history_5_cg_r05[:,0], label=\"5.0\", linestyle='--')\n",
    "plt.plot(u_history_1[:,0], label=\"1.0\")\n",
    "plt.plot(u_history_1_cg_r05[:,0], label=\"1.0\", linestyle='--')\n",
    "plt.plot(u_history_05[:,0], label=\"0.5\")\n",
    "plt.plot(u_history_05_cg_r05[:,0], label=\"0.5\", linestyle='--')\n",
    "plt.plot(u_history_01[:,0], label=\"0.1\", linestyle='-')\n",
    "plt.plot(u_history_01_cg_r05[:,0], label=\"0.1\", linestyle='--')\n",
    "plt.legend()\n",
    "#plt.ylim([-0.5,1.0])\n",
    "plt.title(\"Steering control signal\")\n",
    "plt.show()"
   ]
  },
  {
   "cell_type": "code",
   "execution_count": null,
   "metadata": {
    "scrolled": true
   },
   "outputs": [],
   "source": [
    "#plt.plot(u_history_10[:,1], label=\"10.0\")\n",
    "#plt.plot(u_history_10_cg_r05[:,0], label=\"10.0\", linestyle='--')\n",
    "#plt.plot(u_history_5[:,1], label=\"5.0\")\n",
    "#plt.plot(u_history_5_cg_r05[:,0], label=\"5.0\", linestyle='--')\n",
    "plt.plot(u_history_1[:,1], label=\"1.0\")\n",
    "plt.plot(u_history_1_cg_r05[:,1], label=\"1.0\", linestyle='--')\n",
    "plt.plot(u_history_05[:,1], label=\"0.5\")\n",
    "plt.plot(u_history_05_cg_r05[:,1], label=\"0.5\", linestyle='--')\n",
    "plt.plot(u_history_01[:,1], label=\"0.1\", linestyle='-')\n",
    "plt.plot(u_history_01_cg_r05[:,1], label=\"0.1\", linestyle='--')\n",
    "plt.legend()\n",
    "plt.title(\"Acceleration control signal\")\n",
    "#plt.ylim([-0.3,0.5])\n",
    "plt.show()"
   ]
  },
  {
   "cell_type": "code",
   "execution_count": null,
   "metadata": {},
   "outputs": [],
   "source": [
    "#diff = u_history_10[:np.size(u_history_10_cg_r05)//2,0]-u_history_10_cg_r05[:,0]\n",
    "#plt.plot(diff, label=\"10.0\")\n",
    "#diff0 = u_history_5[:np.size(u_history_5_cg_r05)//2,0]-u_history_5_cg_r05[:,0]\n",
    "#plt.plot(diff0, label=\"5.0\")\n",
    "diff1 = u_history_1[:np.size(u_history_1_cg_r05)//2,0]-u_history_1_cg_r05[:,0]\n",
    "plt.plot(diff1, label=\"1.0\")\n",
    "diff2 = u_history_05[:np.size(u_history_05_cg_r05)//2,0]-u_history_05_cg_r05[:,0]\n",
    "plt.plot(diff2, label=\"0.5\")\n",
    "diff3 = u_history_01[:,0]-u_history_01_cg_r05[:np.size(u_history_01)//2,0]\n",
    "plt.plot(diff3, label=\"0.1\")\n",
    "plt.legend()\n",
    "plt.ylim(-0.005,0.005)\n",
    "plt.title(\"Acceleration difference for CG shift 0.5m back\")\n",
    "plt.show()"
   ]
  },
  {
   "cell_type": "code",
   "execution_count": null,
   "metadata": {},
   "outputs": [],
   "source": [
    "#diff = u_history_10[:np.size(u_history_10_cg_r05)//2,1]-u_history_10_cg_r05[:,1]\n",
    "#plt.plot(diff, label=\"10.0\")\n",
    "#diff0 = u_history_5[:np.size(u_history_5_cg_r05)//2,1]-u_history_5_cg_r05[:,1]\n",
    "#plt.plot(diff0, label=\"5.0\")\n",
    "diff1 = u_history_1[:np.size(u_history_1_cg_r05)//2,1]-u_history_1_cg_r05[:,1]\n",
    "plt.plot(diff1, label=\"1.0\")\n",
    "diff2 = u_history_05[:np.size(u_history_05_cg_r05)//2,1]-u_history_05_cg_r05[:,1]\n",
    "plt.plot(diff2, label=\"0.5\")\n",
    "diff3 = u_history_01[:,1]-u_history_01_cg_r05[:np.size(u_history_01)//2,1]\n",
    "plt.plot(diff3, label=\"0.1\")\n",
    "plt.legend()\n",
    "plt.title(\"Steering difference for CG shift 0.5m back\")\n",
    "plt.show()"
   ]
  },
  {
   "cell_type": "code",
   "execution_count": null,
   "metadata": {},
   "outputs": [],
   "source": []
  }
 ],
 "metadata": {
  "@webio": {
   "lastCommId": null,
   "lastKernelId": null
  },
  "kernelspec": {
   "display_name": "Python 3",
   "language": "python",
   "name": "python3"
  },
  "language_info": {
   "codemirror_mode": {
    "name": "ipython",
    "version": 3
   },
   "file_extension": ".py",
   "mimetype": "text/x-python",
   "name": "python",
   "nbconvert_exporter": "python",
   "pygments_lexer": "ipython3",
   "version": "3.7.4"
  }
 },
 "nbformat": 4,
 "nbformat_minor": 2
}
