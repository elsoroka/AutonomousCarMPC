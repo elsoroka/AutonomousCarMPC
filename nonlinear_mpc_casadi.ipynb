{
 "cells": [
  {
   "cell_type": "code",
   "execution_count": null,
   "metadata": {},
   "outputs": [],
   "source": [
    "# Nonlinear MPC test using kinematic bicycle model for car\n",
    "# We want to use the kinematic bicycle model from this paper (Figure 3)\n",
    "# https://link-springer-com.stanford.idm.oclc.org/article/10.1007/s13177-020-00226-1#Tab4\n",
    "\n",
    "# which has states:\n",
    "# x, y = positional coordinates in inertial frame\n",
    "# ψ = angle of car centerline in inertial frame\n",
    "# ̇ψ = change of angle\n",
    "# β = angle between car centerline and velocity vector\n",
    "# ̇β = change of angle\n",
    "\n",
    "# and has the equations:\n",
    "# ̇x = v cos(ψ + β)\n",
    "# ̇y = v sin(ψ + β)\n",
    "# ̇v = a\n",
    "# ̇ψ = v / lᵣ sin(β)\n",
    "# β = arctan(lᵣ/(lf + lᵣ) tan(δf))\n",
    "# ̇β = v/(lf + lᵣ) tan(δf) - v/lᵣ sin(β)\n",
    "# ̇δf = ω\n",
    "\n",
    "# and we want to solve it. Define the model:\n"
   ]
  },
  {
   "cell_type": "markdown",
   "metadata": {},
   "source": [
    "The model has state and input:\n",
    "\\begin{gather*}\n",
    "z = \\begin{bmatrix}x\\\\ y\\\\ v\\\\ \\psi\\\\ \\beta\\end{bmatrix},\\quad\n",
    "u = \\begin{bmatrix}a\\\\ \\delta_f\\end{bmatrix},\\quad\n",
    "\\end{gather*}\n",
    "where the two control signals are $a$, the acceleration command, and $\\delta_f$, the front steering angle (in radians).\n",
    "The nonlinear model is:\n",
    "\\begin{gather*}\n",
    "\\begin{bmatrix}\n",
    "\\dot x\\\\ \\dot y\\\\ \\dot v\\\\ \\dot\\psi\\\\ \\dot\\beta\n",
    "\\end{bmatrix} =\n",
    "\\begin{bmatrix}\n",
    "v\\cos(\\psi + \\beta)\n",
    "\\\\\n",
    "v\\sin(\\psi + \\beta)\n",
    "\\\\\n",
    "a\n",
    "\\\\\n",
    "\\frac{v}{l_r}\\sin(\\beta)\n",
    "\\\\\n",
    "\\frac{v}{l_f + l_r}\\tan(\\delta_f) - \\frac{v}{l_r}\\sin(\\beta)\n",
    "\\end{bmatrix}\n",
    "\\end{gather*}"
   ]
  },
  {
   "cell_type": "markdown",
   "metadata": {},
   "source": [
    "## Casadi setup\n",
    "From http://casadi.sourceforge.net/v3.4.4/users_guide/casadi-users_guide.pdf"
   ]
  },
  {
   "cell_type": "code",
   "execution_count": 1,
   "metadata": {},
   "outputs": [],
   "source": [
    "import casadi\n",
    "import numpy as np\n",
    "import matplotlib.pyplot as plt\n",
    "import matplotlib        as mpl\n",
    "#from scipy               import interpolate\n",
    "#from scipy.optimize import curve_fit\n",
    "from direct_collocation  import MpcProblem\n",
    "from KinematicBicycleCar import KinematicBicycleCar"
   ]
  },
  {
   "cell_type": "code",
   "execution_count": null,
   "metadata": {},
   "outputs": [],
   "source": [
    "# road - not in use right now due to problems\n",
    "'''\n",
    "road_center = np.array([\n",
    "[2.519, 117.514],\n",
    "[10.68, 117.192],\n",
    "[22.303, 116.549],\n",
    "[30.712, 115.585],\n",
    "[40.357, 112.691],\n",
    "[50.744, 107.226],\n",
    "[50.249, 98.224],\n",
    "[48.765, 84.721],\n",
    "[47.529, 74.754],\n",
    "[47.158, 64.466],\n",
    "[47.034, 53.535],\n",
    "[47.529, 41.318],\n",
    "[48.024, 31.994],\n",
    "[48.518, 22.028],\n",
    "[58.41, 22.671],\n",
    "[68.303, 23.635],\n",
    "[77.453, 23.153],\n",
    "])\n",
    "\n",
    "road_width = np.array([\n",
    "    6.0,\n",
    "    6.0,\n",
    "    5.95,\n",
    "    5.9,\n",
    "    5.84,\n",
    "    5.80,\n",
    "    5.80,\n",
    "    5.86,\n",
    "    5.82,\n",
    "    5.78,\n",
    "    5.72,\n",
    "    5.7,\n",
    "    5.68,\n",
    "    5.6,\n",
    "    5.52,\n",
    "    5.44,\n",
    "    5.40,\n",
    "])\n",
    "\n",
    "def fit(x, a, b, c):\n",
    "\n",
    "    return a*np.square(x) + b*x + c\n",
    "\n",
    "popt_y, pcov_y = curve_fit(fit, road_center[:,0], road_center[:,1])\n",
    "x = np.linspace(road_center[0,0], road_center[-1,0],20)\n",
    "y = fit(x, *popt_y)\n",
    "'''"
   ]
  },
  {
   "cell_type": "markdown",
   "metadata": {},
   "source": [
    "## Initial state and cost"
   ]
  },
  {
   "cell_type": "code",
   "execution_count": null,
   "metadata": {},
   "outputs": [],
   "source": [
    "# Initialize the car model with 0.05 second steps and 30 step lookahead\n",
    "car = KinematicBicycleCar(N=30, step=0.05)\n",
    "        \n",
    "# Initial conditions: x,y = 0,0, velocity = 5.5 m/s, car at 22.5-degree angle\n",
    "# This is the model:\n",
    "# https://link-springer-com.stanford.idm.oclc.org/article/10.1007/s13177-020-00226-1/figures/3\n",
    "ic = [0.0, 0.0, 5.5, np.pi/8, 0.0]\n",
    "car.set_initial(ic)\n",
    "\n",
    "# Cost - we want the velocity to stay around 5 m/s, so we penalize deviations from that.\n",
    "cost = (car.dae.x[0][2]-5)**2"
   ]
  },
  {
   "cell_type": "markdown",
   "metadata": {},
   "source": [
    "## Run the MPC algorithm"
   ]
  },
  {
   "cell_type": "code",
   "execution_count": null,
   "metadata": {},
   "outputs": [],
   "source": [
    "    \n",
    "mpcprob = MpcProblem(car,     # casadi.DaeBuilder()\n",
    "                     cost,        # casadi symbolic objective\n",
    "                    )\n",
    "\n",
    "# Controls the NUMBER of iterations to run the MPC algorithm.\n",
    "n_runs = 80\n",
    "\n",
    "x_plan = np.empty((mpcprob.model.n,n_runs+1))\n",
    "u_plan = np.empty((mpcprob.model.m,n_runs))\n",
    "x_true = np.empty((mpcprob.model.n,n_runs+1))\n",
    "x_true[:,0] = ic\n",
    "x_plan[:,0] = ic\n",
    "\n",
    "boundary_up  = np.empty((n_runs,2))\n",
    "boundary_low = np.empty((n_runs,2))\n",
    "\n",
    "\n",
    "for k in range(n_runs):\n",
    "    xk_opt, uk_opt = mpcprob.run(x_true[:,k])\n",
    "    for i in range(5):\n",
    "        x_plan[i,k+1] = xk_opt[i][1]\n",
    "    for i in range(2):\n",
    "        u_plan[i,k] = uk_opt[i][1]\n",
    "    x_true[:,k+1] = mpcprob.simulate(x_true[:,k], u_plan[:,k])\n",
    "\n",
    "    boundary_up[k,:] = mpcprob.model.upperbounds_x(0)[0:2]\n",
    "    boundary_low[k,:] = mpcprob.model.lowerbounds_x(0)[0:2]\n",
    "        \n",
    "    \n",
    "    # hack to demonstrate changing the cost halfway through the number of runs\n",
    "    #if k = n_runs//2:\n",
    "        # now the cost is penalizing velocity, so the car will stop.\n",
    "    #    mpcprob.set_cost(100*car.dae.x[0][2]**2)\n",
    "\n",
    "# This was to compare the error between the prediction and\n",
    "# the simulation using casadi ODE integrator\n",
    "# the error is very small.\n",
    "#for k in range(1,n_runs):\n",
    "    #print(\"True:\", x_true[:,k])\n",
    "    #print(\"Pred:\", x_plan[:,k])\n",
    "    #print(\"Error:\", np.linalg.norm(x_true[:,k]-x_plan[:,k],2))\n",
    "\n",
    "# Get the planned boundaries\n",
    "boundary_plan_up = np.empty((mpcprob.model.N,2))\n",
    "boundary_plan_low = np.empty((mpcprob.model.N,2))\n",
    "for k in range(mpcprob.model.N):\n",
    "    boundary_plan_up[k,:] = mpcprob.model.upperbounds_x(k)[0:2]\n",
    "    boundary_plan_low[k,:] = mpcprob.model.lowerbounds_x(k)[0:2]\n",
    "    \n",
    "# Add them to the boundaries for past states\n",
    "boundary_up = np.concatenate([boundary_up, boundary_plan_up])\n",
    "boundary_low = np.concatenate([boundary_low, boundary_plan_low])"
   ]
  },
  {
   "cell_type": "code",
   "execution_count": null,
   "metadata": {},
   "outputs": [],
   "source": [
    "u_plt, u_ax1, u_ax2 = car.plot_u(u_plan, mpcprob.u_opt)\n",
    "# control limits"
   ]
  },
  {
   "cell_type": "code",
   "execution_count": null,
   "metadata": {
    "scrolled": true
   },
   "outputs": [],
   "source": [
    "x_plt, x_ax = car.plot_x(x_plan, mpcprob.x_opt)\n",
    "plt.show()"
   ]
  },
  {
   "cell_type": "markdown",
   "metadata": {},
   "source": [
    "## x vs time and y vs time, separately, with the boundaries"
   ]
  },
  {
   "cell_type": "code",
   "execution_count": null,
   "metadata": {},
   "outputs": [],
   "source": [
    "print(\"Final state:\")\n",
    "print(\"(x,y):\", x_plan[0,-1], x_plan[1,-1])\n",
    "\n",
    "fig1, ax1, ax2 = mpcprob.model.plot_with_time(x_plan, mpcprob.x_opt, boundary_up, boundary_low)"
   ]
  },
  {
   "cell_type": "code",
   "execution_count": null,
   "metadata": {},
   "outputs": [],
   "source": [
    "# This is the road to my parents' house, distances in meters.\n",
    "'''\n",
    "road_left = np.array([\n",
    "[2.519, 117.514],\n",
    "[10.68, 117.192],\n",
    "[22.303, 116.549],\n",
    "[30.712, 115.585],\n",
    "[40.357, 112.691],\n",
    "[50.744, 107.226],\n",
    "[50.249, 98.224],\n",
    "[48.765, 84.721],\n",
    "[47.529, 74.754],\n",
    "[47.158, 64.466],\n",
    "[47.034, 53.535],\n",
    "[47.529, 41.318],\n",
    "[48.024, 31.994],\n",
    "[48.518, 22.028],\n",
    "[58.41, 22.671],\n",
    "[68.303, 23.635],\n",
    "[77.453, 23.153],\n",
    "])\n",
    "\n",
    "road_right = np.array([\n",
    "[2.519, 109.155],\n",
    "[10.68, 109.316],\n",
    "[22.427, 108.19],\n",
    "[30.094, 107.708],\n",
    "[38.626, 105.297],\n",
    "[42.83, 102.403],\n",
    "[43.325, 98.545],\n",
    "[42.583, 86.007],\n",
    "[41.222, 75.719],\n",
    "[40.852, 65.431],\n",
    "[40.357, 53.856],\n",
    "[40.852, 41.318],\n",
    "[41.346, 30.869],\n",
    "[45.179, 14.955],\n",
    "[57.916, 14.312],\n",
    "[68.056, 15.276],\n",
    "[77.206, 14.312],\n",
    "])\n",
    "\n",
    "plt.scatter(road_left[:,0], road_left[:,1])\n",
    "plt.scatter(road_right[:,0], road_right[:,1])\n",
    "'''"
   ]
  },
  {
   "cell_type": "code",
   "execution_count": 2,
   "metadata": {},
   "outputs": [],
   "source": [
    "from roadrunner import Roadrunner\n",
    "from scipy.optimize import curve_fit\n",
    "from collections import deque\n",
    "\n",
    "from road import test_road as road_center\n",
    "\n",
    "N_POINTS,_ = np.shape(road_center)\n",
    "road_width = np.ones(N_POINTS)*2.0\n",
    "\n",
    "angles = np.empty(N_POINTS-1)\n",
    "for i in range(N_POINTS-1):\n",
    "    angles[i] = np.arctan2((road_center[i+1,1]-road_center[i,1]),(road_center[i+1,0]-road_center[i,0]))\n"
   ]
  },
  {
   "cell_type": "code",
   "execution_count": 3,
   "metadata": {},
   "outputs": [
    {
     "name": "stdout",
     "output_type": "stream",
     "text": [
      "<Curve (degree=19, dimension=2)>\n"
     ]
    },
    {
     "data": {
      "text/plain": [
       "<matplotlib.collections.PathCollection at 0x7f89f3859b90>"
      ]
     },
     "execution_count": 3,
     "metadata": {},
     "output_type": "execute_result"
    },
    {
     "data": {
      "image/png": "[encoded data removed]",
      "text/plain": [
       "<Figure size 432x288 with 1 Axes>"
      ]
     },
     "metadata": {
      "needs_background": "light"
     },
     "output_type": "display_data"
    }
   ],
   "source": [
    "# What to do:\n",
    "# 1. get better data set - done\n",
    "# 2. parametrize x(s) and y(s) for road\n",
    "# 3. better data set should fix data fitting\n",
    "# 4. better data fitting: curves should match, e.g. curve k ends with derivative k' and curve k+1 should start with derivative k'\n",
    "# in that way, they are always continuous\n",
    "# we can set this up (discretely) with ipopt\n",
    "import bezier\n",
    "P = 20\n",
    "nodes = np.asfortranarray(np.transpose(road_center[0:0+P,:]))\n",
    "curve = bezier.Curve.from_nodes(nodes)\n",
    "print(curve)\n",
    "ax = curve.plot(10)\n",
    "tmp = curve.evaluate_multi(np.linspace(0,1,10))\n",
    "ax.scatter(road_center[:,0], road_center[:,1], color='orange')\n",
    "ax.scatter(tmp[0,:], tmp[1,:])\n"
   ]
  },
  {
   "cell_type": "code",
   "execution_count": 4,
   "metadata": {},
   "outputs": [
    {
     "name": "stdout",
     "output_type": "stream",
     "text": [
      "0 3.815431043713564\n",
      "1 3.8154310437135663\n",
      "2 6.897890517785942\n",
      "3 4.00589029852599\n",
      "4 3.348875434934288\n",
      "5 3.6246658589368517\n",
      "6 0.33268143262833866\n",
      "7 -2.407462308168476\n",
      "8 -5.381425905574998\n",
      "9 -2.6785512554432436\n",
      "10 -4.922860425243141\n",
      "11 0.33752646084202137\n",
      "12 0.3395984419639393\n",
      "13 -2.207756742168605\n",
      "14 -2.3110619744455505\n",
      "15 -4.531652156899298\n",
      "16 -4.93693409911738\n",
      "17 -15.139624343334068\n",
      "18 -29.636779759189782\n",
      "19 -25.33230253619997\n",
      "20 -25.326064130362724\n",
      "21 -80.73896765348857\n",
      "22 -98.67722536691214\n",
      "23 -99.54409149675736\n"
     ]
    },
    {
     "data": {
      "text/plain": [
       "<matplotlib.collections.PathCollection at 0x7f89ef71f610>"
      ]
     },
     "execution_count": 4,
     "metadata": {},
     "output_type": "execute_result"
    },
    {
     "data": {
      "image/png": "[encoded data removed]",
      "text/plain": [
       "<Figure size 432x288 with 1 Axes>"
      ]
     },
     "metadata": {
      "needs_background": "light"
     },
     "output_type": "display_data"
    }
   ],
   "source": [
    "P = 30\n",
    "\n",
    "for i in range(N_POINTS-P):\n",
    "    road_b = Roadrunner.to_body_frame(road_center[i:i+P,:], angles[i])\n",
    "\n",
    "    nodes = np.asfortranarray(np.transpose(road_b))\n",
    "    curve = bezier.Curve.from_nodes(nodes)\n",
    "    \n",
    "    tmp = curve.evaluate_multi(np.linspace(0,9*0.05,10))\n",
    "    x_b = tmp[0,:]\n",
    "    y_b = tmp[1,:]\n",
    "    \n",
    "    x_b = np.reshape(x_b, (10,1))\n",
    "    y_b = np.reshape(y_b, (10,1))\n",
    "    fit_b = np.hstack([x_b, y_b])\n",
    "    fit_world = Roadrunner.to_world_frame(fit_b, angles[i], offset=road_center[i,:])\n",
    "    print(i, angles[i]*180/np.pi)\n",
    "    \n",
    "    plt.plot(fit_world[:,0], fit_world[:,1], label=str(i))\n",
    "\n",
    "plt.scatter(road_center[:,0], road_center[:,1])"
   ]
  },
  {
   "cell_type": "code",
   "execution_count": null,
   "metadata": {},
   "outputs": [],
   "source": []
  }
 ],
 "metadata": {
  "@webio": {
   "lastCommId": null,
   "lastKernelId": null
  },
  "kernelspec": {
   "display_name": "Python 3",
   "language": "python",
   "name": "python3"
  },
  "language_info": {
   "codemirror_mode": {
    "name": "ipython",
    "version": 3
   },
   "file_extension": ".py",
   "mimetype": "text/x-python",
   "name": "python",
   "nbconvert_exporter": "python",
   "pygments_lexer": "ipython3",
   "version": "3.7.4"
  }
 },
 "nbformat": 4,
 "nbformat_minor": 2
}
