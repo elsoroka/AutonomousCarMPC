{
 "cells": [
  {
   "cell_type": "markdown",
   "metadata": {},
   "source": [
    "## Nonlinear MPC with Kinematic Bicycle Model\n",
    "\n",
    "The bicycle model is the same one used in <a href=https://link-springer-com.stanford.idm.oclc.org/article/10.1007/s13177-020-00226-1#Tab4>this paper (Figure 3)</a>\n",
    "\n",
    "The model has state and input:\n",
    "\\begin{gather*}\n",
    "z = \\begin{bmatrix}x\\\\ y\\\\ v\\\\ \\psi\\end{bmatrix},\\quad\n",
    "u = \\begin{bmatrix}a\\\\ \\delta_f\\end{bmatrix},\\quad\n",
    "\\end{gather*}\n",
    "\n",
    "The 4 states are:\n",
    "* $x$ and $y$, the car's position in the world frame\n",
    "* $v$, the car's velocity\n",
    "* $\\psi$, the angle of the car's centerline in the world frame\n",
    "\n",
    "\n",
    "The two control signals are $a$, the acceleration command, and $\\delta_f$, the front steering angle (in radians).\n",
    "\n",
    "$\\beta$ is the angle between the car's centerline and its velocity vector. It is not really a state, but a function of $\\delta_f$.\n",
    "\n",
    "The nonlinear model is:\n",
    "\\begin{gather*}\n",
    "\\begin{bmatrix}\n",
    "\\dot x\\\\ \\dot y\\\\ \\dot v\\\\ \\dot\\psi\n",
    "%\\\\ \\dot\\beta\n",
    "\\end{bmatrix} =\n",
    "\\begin{bmatrix}\n",
    "v\\cos(\\psi + \\beta)\n",
    "\\\\\n",
    "v\\sin(\\psi + \\beta)\n",
    "\\\\\n",
    "a\n",
    "\\\\\n",
    "\\frac{v}{l_r}\\sin(\\beta)\n",
    "%\\\\\n",
    "%\\frac{v}{l_f + l_r}\\tan(\\delta_f) - \\frac{v}{l_r}\\sin(\\beta)\n",
    "\\end{bmatrix}, \\quad \\beta = \\tan^{-1}\\Big(\\frac{l_r}{l_r + l_f}\\tan(\\delta_f)\\Big)\n",
    "\\end{gather*}\n"
   ]
  },
  {
   "cell_type": "markdown",
   "metadata": {},
   "source": [
    "## Casadi setup\n",
    "From http://casadi.sourceforge.net/v3.4.4/users_guide/casadi-users_guide.pdf"
   ]
  },
  {
   "cell_type": "code",
   "execution_count": null,
   "metadata": {},
   "outputs": [],
   "source": [
    "# Library dependencies\n",
    "import casadi\n",
    "import numpy             as np\n",
    "import matplotlib.pyplot as plt\n",
    "import matplotlib        as mpl\n",
    "import bezier\n",
    "\n",
    "# Local dependencies\n",
    "from direct_collocation  import MpcProblem\n",
    "from KinematicBicycleCar import KinematicBicycleCar\n",
    "from roadrunner_2        import Roadrunner, Segment, OutOfRoadPointsException\n",
    "\n",
    "#from road                import iso_double_lane_change as test_road\n",
    "from complex_track_2                import complex_track_2 as test_road\n",
    "\n",
    "# Generates a totally straight test_road\n",
    "#test_road = np.empty((100,2))\n",
    "#for i in range(100):\n",
    "#    test_road[i,0] = i\n",
    "#    test_road[i,1] = -0.001*i if i > 60 else 0.001*i\n",
    "\n",
    "# Flips the test road, so the car goes from the end to the start.\n",
    "#test_road = np.flip(test_road, 0)\n"
   ]
  },
  {
   "cell_type": "markdown",
   "metadata": {},
   "source": [
    "## Initialize the car and road model"
   ]
  },
  {
   "cell_type": "code",
   "execution_count": null,
   "metadata": {},
   "outputs": [],
   "source": [
    "# Initialize the car model with 0.05 second steps and 30 step lookahead\n",
    "car = KinematicBicycleCar(N=30, step=0.075)\n",
    "DESIRED_SPEED = 10.0"
   ]
  },
  {
   "cell_type": "code",
   "execution_count": null,
   "metadata": {},
   "outputs": [],
   "source": [
    "n_test_road_pts,_ = np.shape(test_road)\n",
    "\n",
    "roadrunner = Roadrunner(road_center = test_road,                    # Road centerline points\n",
    "                        road_width  = np.ones(n_test_road_pts)*5.0, # constant lane width of 5 meters\n",
    "                        P           = 10) # Number of points to try curve-fitting at a time"
   ]
  },
  {
   "cell_type": "markdown",
   "metadata": {},
   "source": [
    "## Boundary functions\n",
    "We represent the road boundaries as a series of polygons. At each step $x_k$, $x_{k+1},...,x_N$, the car's x-y position is bounded by a 4-sided polygon.\n",
    "The polygons for successive states overlap, allowing the car to steer and slow down / speed up within the confines of the road.\n",
    "\n",
    "This image shows 5 successive bounds from $k$ to $k+5$. The $k+5^{th}$ bound is in red.\n",
    "![title](polygon_bounds.png)"
   ]
  },
  {
   "cell_type": "code",
   "execution_count": null,
   "metadata": {},
   "outputs": [],
   "source": [
    "# What we should do now\n",
    "# 1. Use the velocity estimate to \"step through\" the road,\n",
    "#    obtaining a set of road midpoints and constraint boundaries\n",
    "# 2. Add a term to the cost function that attracts the successive states to the road midpoints - done\n",
    "# 3. Use the midpoints to initialize the variable estimate so the solver is faster. - done,\n",
    "#    and we are initializing the new control uk to the previously computed one\n",
    "#    kind of warm-starting ipopt - done"
   ]
  },
  {
   "cell_type": "markdown",
   "metadata": {},
   "source": [
    "## Run the MPC algorithm"
   ]
  },
  {
   "cell_type": "code",
   "execution_count": null,
   "metadata": {
    "scrolled": true
   },
   "outputs": [],
   "source": [
    "roadrunner.reset()\n",
    "# start a bit ahead of the first point to have space for looking back on the road\n",
    "roadrunner.advance(car.step*10*DESIRED_SPEED)\n",
    "\n",
    "xy = np.reshape(roadrunner.evaluate(),(2,))\n",
    "ic = [xy[0], xy[1], DESIRED_SPEED, float(roadrunner.get_angle())]\n",
    "car.set_initial(DESIRED_SPEED, roadrunner)\n",
    "print(\"Starting at initial conditions\", ic)\n",
    "\n",
    "# This is the model:\n",
    "# https://link-springer-com.stanford.idm.oclc.org/article/10.1007/s13177-020-00226-1/figures/3\n",
    "mpcprob = MpcProblem(car, roadrunner,    # casadi.DaeBuilder()\n",
    "                    )"
   ]
  },
  {
   "cell_type": "code",
   "execution_count": null,
   "metadata": {
    "scrolled": false
   },
   "outputs": [],
   "source": [
    "%matplotlib notebook\n",
    "\n",
    "# Controls the NUMBER of iterations to run the MPC algorithm.\n",
    "n_runs = 100\n",
    "\n",
    "def desired_speed(k:int):\n",
    "    return DESIRED_SPEED\n",
    "\n",
    "x_plan = np.empty((mpcprob.model.n,n_runs+1)) # store the steps that get executed (n_runs)\n",
    "u_plan = np.empty((mpcprob.model.m,n_runs))   # store the control inputs that get executed\n",
    "x_true = np.empty((mpcprob.model.n,n_runs+1)) # store the state as simulated for each control input by an integrator\n",
    "x_true[:,0] = ic # initial conditions\n",
    "x_plan[:,0] = ic\n",
    "# store the polygon boundary for each step, so we can plot them later\n",
    "polygon_boundaries = np.zeros((n_runs+mpcprob.model.N,4,2))\n",
    "\n",
    "fig_traj = plt.figure(figsize=(12,4))\n",
    "ax_traj = fig_traj.add_subplot(111)\n",
    "\n",
    "plt.ion()\n",
    "fig_traj.show()\n",
    "\n",
    "states = ax_traj.plot(x_true[0,0], x_true[1,0], color=\"red\")[0]\n",
    "#ax_traj.quiver(x_true[0,0], x_true[1,0], x_true[2,0]*np.cos(x_true[3,0]), x_true[2,0]*np.sin(x_true[3,0]), color=\"blue\")\n",
    "plt.xlim([0,100])\n",
    "\n",
    "fig_traj.canvas.draw()\n",
    "\n",
    "k = 0\n",
    "try:\n",
    "    while k < n_runs:\n",
    "        # Solve the MPC problem\n",
    "        xk_opt, uk_opt, sol = mpcprob.run(x_true[:,k])\n",
    "\n",
    "        # Save the next state x_k+1 and control u_k+1\n",
    "        for i in range(mpcprob.model.n):\n",
    "            x_plan[i,k+1] = xk_opt[i][1]\n",
    "        for i in range(mpcprob.model.m):\n",
    "            u_plan[i,k] = uk_opt[i][1]\n",
    "        x_true[:,k+1] = mpcprob.simulate(x_true[:,k], u_plan[:,k])\n",
    "\n",
    "        # Compute distance traveled (approximately)\n",
    "        step_xy = np.linalg.norm(x_true[:,k+1]-x_true[:,k], 2)\n",
    "\n",
    "        # Save the 4 points that represent the polygon boundary at state k\n",
    "        bounds,p = roadrunner.bound_x(mpcprob.model.step,0, desired_speed)\n",
    "        polygon_boundaries[k,:,:] = p\n",
    "    \n",
    "        #roadrunner.advance(step_xy)\n",
    "        # Transform the point x_true to body frame coordinates to find the closest point near it on the curve.\n",
    "        seg = roadrunner.segments[roadrunner._segment_ptr]\n",
    "        pt = np.asfortranarray(\n",
    "            roadrunner.to_body_frame(np.reshape(x_true[0:2,k+1],(1,2)), seg.transform_angle, seg.transform_offset))\n",
    "\n",
    "        (s_new,_) = roadrunner.find_closest_pt(seg.curve,\n",
    "                                            np.reshape(pt,(2,1)),\n",
    "                                              start=roadrunner.current_pct,\n",
    "                                              end=roadrunner.current_pct + 0.1)\n",
    "        # Advance to s_new, the closest point on the curve.\n",
    "        delta_s = s_new - roadrunner.current_pct\n",
    "        step_xy = roadrunner.advance_s(delta_s)\n",
    "\n",
    "        print(\"Advanced by\", step_xy,\"to\", roadrunner.evaluate())\n",
    "\n",
    "\n",
    "        # Plot arrows and x-y states\n",
    "        ax_traj.clear()\n",
    "        #ax_traj.quiver(x_true[0,:k], x_true[1,:k], x_true[2,:k]*np.cos(x_true[3,:k]), x_true[2,:k]*np.sin(x_true[3,:k]), color=\"blue\")\n",
    "        ax_traj.scatter(x_true[0,:k], x_true[1,:k], color=\"navy\")\n",
    "        xy = np.reshape(roadrunner.evaluate(),(2,1))\n",
    "        ax_traj.scatter(xy[0], xy[1], color=\"red\")\n",
    "        # Plot the polygon fill\n",
    "        ax_traj.fill(polygon_boundaries[k,:,0], polygon_boundaries[k,:,1], \"lightblue\", alpha=0.5)\n",
    "        # Plot the line around each polygon\n",
    "        ax_traj.plot(np.concatenate([polygon_boundaries[k,:,0],polygon_boundaries[k,0:1,0]]),\n",
    "                np.concatenate([polygon_boundaries[k,:,1],polygon_boundaries[k,0:1,1]]),\n",
    "                color=\"navy\", alpha=0.5)\n",
    "\n",
    "        # Plot the plan\n",
    "        for r in range(30-1):\n",
    "            # Plot the polygon fill\n",
    "            #ax_traj.fill(mpcprob.p_plot[r,:,0], mpcprob.p_plot[r,:,1], \"lightblue\", alpha=0.1)\n",
    "            # Plot the line around each polygon\n",
    "            ax_traj.plot(np.concatenate([mpcprob.p_plot[r,:,0],mpcprob.p_plot[r,0:1,0]]),\n",
    "                    np.concatenate([mpcprob.p_plot[r,:,1],mpcprob.p_plot[r,0:1,1]]),\n",
    "                    color=\"navy\", alpha=0.2)\n",
    "        ax_traj.plot(np.concatenate([mpcprob.p_plot[-1,:,0],mpcprob.p_plot[-1,0:1,0]]),\n",
    "                    np.concatenate([mpcprob.p_plot[-1,:,1],mpcprob.p_plot[-1,0:1,1]]),\n",
    "                    color=\"red\", alpha=0.2)\n",
    "\n",
    "\n",
    "        ax_traj.scatter(xk_opt[0], xk_opt[1], color=\"orange\")\n",
    "\n",
    "\n",
    "        fig_traj.canvas.draw()\n",
    "        # Done!\n",
    "\n",
    "        if not sol['success']: # it failed\n",
    "            print(\"FAILED: ipopt returned status\", sol['success'], \"\\n\", sol['return_status'])\n",
    "            raise ValueError(\"ipopt failed and I need to make a better exception name\")\n",
    "        \n",
    "        k += 1\n",
    "\n",
    "except (ValueError, OutOfRoadPointsException) as e:\n",
    "    print(e)\n",
    "    x_plan = x_plan[:,:k+1] # Cut the vectors shorter so they don't have unitialized values\n",
    "    u_plan = u_plan[:,:k]  \n",
    "    x_true = x_true[:,k+1]\n",
    "    # store the polygon boundary for each step, so we can plot them later\n",
    "    polygon_boundaries = polygon_boundaries[:k+mpcprob.model.N,:,:]\n",
    "finally:\n",
    "    roadrunner.plot(ax=ax_traj)\n",
    "    fig_traj.canvas.draw()\n"
   ]
  },
  {
   "cell_type": "code",
   "execution_count": null,
   "metadata": {
    "scrolled": true
   },
   "outputs": [],
   "source": [
    "# turn interactive off\n",
    "plt.ioff()\n",
    "# FOR PLOTTING: We also want to include the polygons for the lookahead steps k=1,...,N.\n",
    "polygon_boundaries[k-1:k+mpcprob.model.N+2,:,:] = mpcprob.p_plot"
   ]
  },
  {
   "cell_type": "markdown",
   "metadata": {},
   "source": [
    "## Control signals: acceleration and steering angle"
   ]
  },
  {
   "cell_type": "code",
   "execution_count": null,
   "metadata": {
    "scrolled": false
   },
   "outputs": [],
   "source": [
    "u_plt, u_ax1, u_ax2 = car.plot_u(u_plan, mpcprob.u_opt)\n",
    "plt.show()\n",
    "print(u_plan)"
   ]
  },
  {
   "cell_type": "markdown",
   "metadata": {},
   "source": [
    "## x-y plot of car's path\n",
    "Arrows show velocity. Orange components are planned but not executed."
   ]
  },
  {
   "cell_type": "code",
   "execution_count": null,
   "metadata": {
    "scrolled": false
   },
   "outputs": [],
   "source": [
    "x_plt, x_ax = car.plot_x(x_plan, mpcprob.x_opt)\n",
    "    \n",
    "roadrunner.plot(ax=x_ax)\n",
    "plt.show()"
   ]
  },
  {
   "cell_type": "markdown",
   "metadata": {},
   "source": [
    "## x vs time and y vs time, separately, with the boundaries"
   ]
  },
  {
   "cell_type": "code",
   "execution_count": null,
   "metadata": {},
   "outputs": [],
   "source": [
    "# Plot the road boundary as polygons\n",
    "def plot_polygons(polygon_boundaries, ax=None):\n",
    "    n_polys,_,_ = np.shape(polygon_boundaries)\n",
    "    \n",
    "    if ax is None:\n",
    "        fig, ax = plt.subplots(1,1,figsize=(12,4))\n",
    "        \n",
    "    for k in range(n_polys):\n",
    "        # Plot the polygon fill\n",
    "        ax.fill(polygon_boundaries[k,:,0], polygon_boundaries[k,:,1], \"lightblue\", alpha=0.1)\n",
    "        # Plot the line around each polygon\n",
    "        ax.plot(np.concatenate([polygon_boundaries[k,:,0],polygon_boundaries[k,0:1,0]]),\n",
    "                np.concatenate([polygon_boundaries[k,:,1],polygon_boundaries[k,0:1,1]]),\n",
    "                color=\"navy\", alpha=0.25)\n",
    "\n",
    "    # Plot the last polygon in RED\n",
    "    ax.plot(np.concatenate([polygon_boundaries[-1,:,0],polygon_boundaries[-1,0:1,0]]),\n",
    "            np.concatenate([polygon_boundaries[-1,:,1],polygon_boundaries[-1,0:1,1]]),\n",
    "            color=\"red\", alpha=0.5)\n",
    "    return ax\n",
    "\n",
    "ax = plot_polygons(polygon_boundaries)\n",
    "ax.scatter(ic[0], ic[1], color=\"green\")\n",
    "plt.title(\"Polygon boundaries along road\")\n",
    "plt.show()"
   ]
  },
  {
   "cell_type": "code",
   "execution_count": null,
   "metadata": {},
   "outputs": [],
   "source": [
    "def plot_x(x_executed:np.array, x_planned:np.array):\n",
    "    fig2, ax = plt.subplots(1,1,\n",
    "        figsize=(14, 6))\n",
    "\n",
    "    # Plot the last optimal path computed\n",
    "    tgrid = np.linspace(0, mpcprob.model.T, mpcprob.model.N)\n",
    "    vx_plan = np.multiply(x_planned[2],np.cos(x_planned[3]))\n",
    "    vy_plan = np.multiply(x_planned[2],np.sin(x_planned[3]))\n",
    "\n",
    "    # Plot the x given\n",
    "    tgrid = np.linspace(0, mpcprob.model.T, len(x_executed[0]))\n",
    "    vx_exec = np.multiply(x_executed[2],np.cos(x_executed[3]))\n",
    "    vy_exec = np.multiply(x_executed[2],np.sin(x_executed[3]))\n",
    "    vx = np.concatenate([vx_exec, vx_plan[2:]])\n",
    "    vy = np.concatenate([vy_exec, vy_plan[2:]])\n",
    "    ax.plot(np.sqrt(vx**2 + vy**2), color=\"blue\")\n",
    "    \n",
    "    xs = np.concatenate([x_executed[0], x_planned[0,2:]])\n",
    "    \n",
    "    fig2.suptitle(\"Velocity\")\n",
    "\n",
    "    return fig2, ax\n",
    "x_plt, x_ax = plot_x(x_plan, mpcprob.x_opt)\n",
    "plt.show()"
   ]
  },
  {
   "cell_type": "code",
   "execution_count": null,
   "metadata": {},
   "outputs": [],
   "source": []
  },
  {
   "cell_type": "code",
   "execution_count": null,
   "metadata": {},
   "outputs": [],
   "source": []
  }
 ],
 "metadata": {
  "@webio": {
   "lastCommId": null,
   "lastKernelId": null
  },
  "kernelspec": {
   "display_name": "Python 3",
   "language": "python",
   "name": "python3"
  },
  "language_info": {
   "codemirror_mode": {
    "name": "ipython",
    "version": 3
   },
   "file_extension": ".py",
   "mimetype": "text/x-python",
   "name": "python",
   "nbconvert_exporter": "python",
   "pygments_lexer": "ipython3",
   "version": "3.7.4"
  }
 },
 "nbformat": 4,
 "nbformat_minor": 2
}
