{
 "cells": [
  {
   "cell_type": "markdown",
   "metadata": {},
   "source": [
    "## Nonlinear MPC with Kinematic Bicycle Model\n",
    "\n",
    "The bicycle model is the same one used in <a href=https://link-springer-com.stanford.idm.oclc.org/article/10.1007/s13177-020-00226-1#Tab4>this paper (Figure 3)</a>\n",
    "\n",
    "The model has state and input:\n",
    "\\begin{gather*}\n",
    "z = \\begin{bmatrix}x\\\\ y\\\\ v\\\\ \\psi\\end{bmatrix},\\quad\n",
    "u = \\begin{bmatrix}a\\\\ \\delta_f\\end{bmatrix},\\quad\n",
    "\\end{gather*}\n",
    "\n",
    "The 4 states are:\n",
    "* $x$ and $y$, the car's position in the world frame\n",
    "* $v$, the car's velocity\n",
    "* $\\psi$, the angle of the car's centerline in the world frame\n",
    "\n",
    "\n",
    "The two control signals are $a$, the acceleration command, and $\\delta_f$, the front steering angle (in radians).\n",
    "\n",
    "$\\beta$ is the angle between the car's centerline and its velocity vector. It is not really a state, but a function of $\\delta_f$.\n",
    "\n",
    "The nonlinear model is:\n",
    "\\begin{gather*}\n",
    "\\begin{bmatrix}\n",
    "\\dot x\\\\ \\dot y\\\\ \\dot v\\\\ \\dot\\psi\n",
    "%\\\\ \\dot\\beta\n",
    "\\end{bmatrix} =\n",
    "\\begin{bmatrix}\n",
    "v\\cos(\\psi + \\beta)\n",
    "\\\\\n",
    "v\\sin(\\psi + \\beta)\n",
    "\\\\\n",
    "a\n",
    "\\\\\n",
    "\\frac{v}{l_r}\\sin(\\beta)\n",
    "%\\\\\n",
    "%\\frac{v}{l_f + l_r}\\tan(\\delta_f) - \\frac{v}{l_r}\\sin(\\beta)\n",
    "\\end{bmatrix}, \\quad \\beta = \\tan^{-1}\\Big(\\frac{l_r}{l_r + l_f}\\tan(\\delta_f)\\Big)\n",
    "\\end{gather*}\n"
   ]
  },
  {
   "cell_type": "markdown",
   "metadata": {},
   "source": [
    "## Casadi setup\n",
    "From http://casadi.sourceforge.net/v3.4.4/users_guide/casadi-users_guide.pdf"
   ]
  },
  {
   "cell_type": "code",
   "execution_count": null,
   "metadata": {},
   "outputs": [],
   "source": [
    "# Library dependencies\n",
    "import casadi\n",
    "import numpy             as np\n",
    "import matplotlib.pyplot as plt\n",
    "import matplotlib        as mpl\n",
    "import bezier\n",
    "\n",
    "# Local dependencies\n",
    "from direct_collocation  import MpcProblem\n",
    "from KinematicBicycleCar import KinematicBicycleCar\n",
    "from roadrunner_2        import Roadrunner, Segment\n",
    "from complex_track_2     import complex_track_2 as test_road"
   ]
  },
  {
   "cell_type": "markdown",
   "metadata": {},
   "source": [
    "## Initialize the car and road model"
   ]
  },
  {
   "cell_type": "code",
   "execution_count": null,
   "metadata": {},
   "outputs": [],
   "source": [
    "# Initialize the car model with 0.05 second steps and 30 step lookahead\n",
    "car = KinematicBicycleCar(N=30, step=0.05)\n",
    "\n",
    "DESIRED_SPEED = 5.0"
   ]
  },
  {
   "cell_type": "code",
   "execution_count": null,
   "metadata": {},
   "outputs": [],
   "source": [
    "%matplotlib notebook\n",
    "\n",
    "n_test_road_pts,_ = np.shape(test_road)\n",
    "\n",
    "roadrunner = Roadrunner(road_center = test_road,                    # Road centerline points\n",
    "                        road_width  = np.ones(n_test_road_pts)*5.0, # constant lane width of 5 meters\n",
    "                        P           = 10, # Number of points to try curve-fitting at a time\n",
    "                        start_pct = 0.3, end_pct = 0.7)"
   ]
  },
  {
   "cell_type": "code",
   "execution_count": null,
   "metadata": {
    "scrolled": false
   },
   "outputs": [],
   "source": [
    "ax = roadrunner.plot()\n",
    "i = 0\n",
    "\n",
    "while i < n_test_road_pts-roadrunner.P:\n",
    "    \n",
    "    end_idx   = int(roadrunner.P*roadrunner.end_pct)\n",
    "    start_idx = int(roadrunner.P*roadrunner.start_pct)\n",
    "\n",
    "    seg = roadrunner.segments[i//(end_idx - start_idx)]\n",
    "                              \n",
    "    start_xy = roadrunner.to_body_frame(np.reshape(roadrunner.road_center[i+start_idx],(1,2)), seg.transform_angle, seg.transform_offset)\n",
    "    end_xy   = roadrunner.to_body_frame(np.reshape(roadrunner.road_center[i+end_idx],  (1,2)),   seg.transform_angle, seg.transform_offset)\n",
    "    \n",
    "    start_tmp = Roadrunner.to_world_frame(np.reshape(start_xy,(1,2)), seg.transform_angle, seg.transform_offset)\n",
    "    end_tmp = Roadrunner.to_world_frame(np.reshape(end_xy,(1,2)), seg.transform_angle, seg.transform_offset)\n",
    "    \n",
    "    ax.scatter(start_tmp[0,0], start_tmp[0,1], color=\"blue\",s=20)\n",
    "    ax.scatter(end_tmp[0,0], end_tmp[0,1], color=\"navy\",s=40)\n",
    "    \n",
    "    start_pct,_ = Roadrunner.find_closest_pt(seg.curve, np.reshape(start_xy,(2,1)), start=0.25, end=0.35)\n",
    "    end_pct,_   = Roadrunner.find_closest_pt(seg.curve, np.reshape(end_xy,  (2,1)), start=0.65, end=0.75)\n",
    "    #print(\"start, end\", start_pct, end_pct)\n",
    "    start_xy = Roadrunner.to_world_frame(np.reshape(seg.curve.evaluate(start_pct),(1,2)), seg.transform_angle, seg.transform_offset)\n",
    "    end_xy = Roadrunner.to_world_frame(np.reshape(seg.curve.evaluate(end_pct),(1,2)), seg.transform_angle, seg.transform_offset)\n",
    "    \n",
    "    ax.scatter(start_xy[0,0], start_xy[0,1], color=\"red\",s=10)\n",
    "    ax.scatter(end_xy[0,0], end_xy[0,1], color=\"orange\", s=10)\n",
    "    \n",
    "    i += (end_idx - start_idx)"
   ]
  },
  {
   "cell_type": "markdown",
   "metadata": {},
   "source": [
    "## Boundary functions\n",
    "We represent the road boundaries as a series of polygons. At each step $x_k$, $x_{k+1},...,x_N$, the car's x-y position is bounded by a 4-sided polygon.\n",
    "The polygons for successive states overlap, allowing the car to steer and slow down / speed up within the confines of the road.\n",
    "\n",
    "This image shows 5 successive bounds from $k$ to $k+5$. The $k+5^{th}$ bound is in red.\n",
    "![title](polygon_bounds.png)"
   ]
  },
  {
   "cell_type": "code",
   "execution_count": null,
   "metadata": {},
   "outputs": [],
   "source": [
    "# terrible hack, need to fix right away\n",
    "\n",
    "global dist_already_traveled\n",
    "dist_already_traveled = 0.0\n",
    "\n",
    "def road_center(model:KinematicBicycleCar, k:int)->np.array:\n",
    "    global dist_already_traveled\n",
    "\n",
    "    (xy, angle, _) = roadrunner.evaluate(model.step*np.sum(model.state_estimate[2,:k]), full_data=True)\n",
    "\n",
    "    center = np.empty((3,))\n",
    "    center[0:2] = np.reshape(xy, 2)\n",
    "    center[2]   = angle\n",
    "    return center\n",
    "\n",
    "# Test\n",
    "\n",
    "def bound_x(model:KinematicBicycleCar, k:int)->[np.array]:\n",
    "    # Returns a 4-sided polygon bound, like this:\n",
    "    # x2-------x3\n",
    "    #   \\  o  /\n",
    "    #  x1-----x4\n",
    "    # successive bounds will overlap each other\n",
    "    # so there is freedom to slow down or speed up the vehicle.\n",
    "    \n",
    "    dist_behind = (k-5)*model.step*DESIRED_SPEED # 5 steps behind * timestep * velocity at point k\n",
    "    #print(\"Looking behind by\", dist_behind)\n",
    "    (center_minus, angle_minus, width_minus) = roadrunner.evaluate(dist_behind, full_data=True)\n",
    "    \n",
    "    dist_ahead = (k+5)*model.step*DESIRED_SPEED # 5 steps ahead * timestep * velocity at point k\n",
    "    #print(\"Looking ahead by\", dist_ahead)\n",
    "    (center_plus, angle_plus, width_plus) = roadrunner.evaluate(dist_ahead, full_data=True)\n",
    "\n",
    "    center_minus = np.reshape(center_minus,(2,))\n",
    "    center_plus = np.reshape(center_plus,(2,))\n",
    "    \n",
    "    #print(\"Got center points\", center_minus, center_plus)\n",
    "    #print(\"center angles:\", 180.0/np.pi*(angle_minus), 180.0/np.pi*(angle_plus))\n",
    "    # These four points define the 2d bounding box for the car at state xk\n",
    "    \n",
    "    p1 = np.reshape(np.array([center_minus[0] + width_minus/2.0*np.cos(angle_minus-np.pi/2),\n",
    "                   center_minus[1] + width_minus/2.0*np.sin(angle_minus-np.pi/2)]), (2,))\n",
    "    \n",
    "    p2 = np.reshape(np.array([center_minus[0] + width_minus/2.0*np.cos(angle_minus+np.pi/2),\n",
    "                   center_minus[1] + width_minus/2.0*np.sin(angle_minus+np.pi/2)]), (2,))\n",
    "    \n",
    "    p3 = np.reshape(np.array([center_plus[0] + width_plus/2.0*np.cos(angle_plus+np.pi/2),\n",
    "                   center_plus[1] + width_plus/2.0*np.sin(angle_plus+np.pi/2)]), (2,))\n",
    "    \n",
    "    p4 = np.reshape(np.array([center_plus[0] + width_plus/2.0*np.cos(angle_plus-np.pi/2),\n",
    "                   center_plus[1] + width_plus/2.0*np.sin(angle_plus-np.pi/2)]), (2,))\n",
    "    \n",
    "    # The slopes between the points\n",
    "    slope12 = (p2[1]-p1[1])/(p2[0]-p1[0]); slope12 = 1e4 if np.isnan(slope12) else slope12\n",
    "    slope23 = (p3[1]-p2[1])/(p3[0]-p2[0]); slope23 = 1e4 if np.isnan(slope23) else slope23\n",
    "    slope43 = (p3[1]-p4[1])/(p3[0]-p4[0]); slope43 = 1e4 if np.isnan(slope43) else slope43\n",
    "    slope14 = (p1[1]-p4[1])/(p1[0]-p4[0]); slope14 = 1e4 if np.isnan(slope14) else slope14\n",
    "\n",
    "    # form 4 linear inequalities to represent the box\n",
    "    # we either have 0.0 >= ax + by + c >= -Inf\n",
    "    # or             Inf >= ax + by + c >= 0.0\n",
    "    \n",
    "    # since y = (x-x0)*slope + y0\n",
    "    # use the line 0 = x*slope - y + y0 - x0*slope as the upper / lower bound\n",
    "    \n",
    "    #            (upper)\n",
    "    #     p2-----slope23------p3\n",
    "    #    /                    /\n",
    "    # slope12 (upper)   slope34 (lower)\n",
    "    #  /                   /\n",
    "    # p1-----slope14-----p4\n",
    "    #        (lower)\n",
    "    \n",
    "    # upper bounds (if slope is positive)\n",
    "    bounds = [\n",
    "        np.array([np.inf, slope12, -1.0, (p1[1]-p1[0]*slope12), 0.0 - 0]),\n",
    "        np.array([np.inf, slope23, -1.0, (p2[1]-p2[0]*slope23), 0.0 - 0]),\n",
    "    \n",
    "    # lower bounds (if slope is positive)\n",
    "        np.array([0.0 + 0, slope43, -1.0, (p4[1]-p4[0]*slope43), -np.inf]),\n",
    "        np.array([0.0 + 0, slope14, -1.0, (p1[1]-p1[0]*slope14), -np.inf]),\n",
    "    ]\n",
    "    \n",
    "    for i in range(len(bounds)): # Handle the negative-slope flipped cases\n",
    "    \n",
    "        if np.sign(bounds[i][1]) == -1: # slope is negative, so inequality flips\n",
    "            bounds[i][0], bounds[i][4] = -bounds[i][4], -bounds[i][0]\n",
    "            \n",
    "    return bounds, np.vstack([p1,p2,p3,p4])"
   ]
  },
  {
   "cell_type": "code",
   "execution_count": null,
   "metadata": {},
   "outputs": [],
   "source": [
    "# What we should do now\n",
    "# 1. Use the velocity estimate to \"step through\" the road,\n",
    "#    obtaining a set of road midpoints and constraint boundaries\n",
    "# 2. Add a term to the cost function that attracts the successive states to the road midpoints - done\n",
    "# 3. Use the midpoints to initialize the variable estimate so the solver is faster. - done,\n",
    "#    and we are initializing the new control uk to the previously computed one\n",
    "#    kind of warm-starting ipopt - done"
   ]
  },
  {
   "cell_type": "markdown",
   "metadata": {},
   "source": [
    "## Run the MPC algorithm"
   ]
  },
  {
   "cell_type": "code",
   "execution_count": null,
   "metadata": {},
   "outputs": [],
   "source": [
    "roadrunner.reset()\n",
    "# start a bit ahead of the first point to have space for looking back on the road\n",
    "roadrunner.advance(car.step*300*DESIRED_SPEED*2)\n",
    "\n",
    "xy = np.reshape(roadrunner.evaluate(),(2,))\n",
    "ic = [xy[0], xy[1], DESIRED_SPEED, float(roadrunner.get_angle())]\n",
    "car.set_initial(ic)\n",
    "print(\"Starting at initial conditions\", ic)\n",
    "\n",
    "# This is the model:\n",
    "# https://link-springer-com.stanford.idm.oclc.org/article/10.1007/s13177-020-00226-1/figures/3\n",
    "mpcprob = MpcProblem(car,     # casadi.DaeBuilder()\n",
    "                     bound_x=bound_x,\n",
    "                     road_center=road_center,\n",
    "                    )"
   ]
  },
  {
   "cell_type": "code",
   "execution_count": null,
   "metadata": {
    "scrolled": false
   },
   "outputs": [],
   "source": [
    "%matplotlib notebook\n",
    "\n",
    "# Controls the NUMBER of iterations to run the MPC algorithm.\n",
    "n_runs = 350 # 350 will cover the whole double-lane-change test\n",
    "\n",
    "x_plan = np.empty((mpcprob.model.n,n_runs+1)) # store the steps that get executed (n_runs)\n",
    "u_plan = np.empty((mpcprob.model.m,n_runs))   # store the control inputs that get executed\n",
    "x_true = np.empty((mpcprob.model.n,n_runs+1)) # store the state as simulated for each control input by an integrator\n",
    "x_true[:,0] = ic # initial conditions\n",
    "x_plan[:,0] = ic\n",
    "# store the polygon boundary for each step, so we can plot them later\n",
    "polygon_boundaries = np.zeros((n_runs+mpcprob.model.N,4,2))\n",
    "\n",
    "fig_traj = plt.figure(figsize=(12,4))\n",
    "ax_traj = fig_traj.add_subplot(111)\n",
    "\n",
    "plt.ion()\n",
    "fig_traj.show()\n",
    "\n",
    "states = ax_traj.plot(x_true[0,0], x_true[1,0], color=\"red\")[0]\n",
    "#ax_traj.quiver(x_true[0,0], x_true[1,0], x_true[2,0]*np.cos(x_true[3,0]), x_true[2,0]*np.sin(x_true[3,0]), color=\"blue\")\n",
    "\n",
    "pts_new = np.empty((n_runs,3))\n",
    "pts_old = np.empty((n_runs,3))\n",
    "\n",
    "fig_traj.canvas.draw()\n",
    "\n",
    "\n",
    "for k in range(n_runs):\n",
    "    # Solve the MPC problem\n",
    "    xk_opt, uk_opt, sol = mpcprob.run(x_true[:,k])\n",
    "    \n",
    "    # Save the next state x_k+1 and control u_k+1\n",
    "    for i in range(mpcprob.model.n):\n",
    "        x_plan[i,k+1] = xk_opt[i][1]\n",
    "    for i in range(mpcprob.model.m):\n",
    "        u_plan[i,k] = uk_opt[i][1]\n",
    "    x_true[:,k+1] = mpcprob.simulate(x_true[:,k], u_plan[:,k])\n",
    "    \n",
    "    # Compute distance traveled (approximately)\n",
    "    step_xy = np.linalg.norm(x_true[:,k+1]-x_true[:,k], 2) #np.sqrt((x_true[0,k+1]-x_true[0,k])**2 + (x_true[1,k+1]-x_true[1,k])**2)\n",
    "    \n",
    "    # Save the 4 points that represent the polygon boundary at state k\n",
    "    bounds,p = bound_x(mpcprob.model,0)\n",
    "    polygon_boundaries[k,:,:] = p\n",
    "    \n",
    "    # Messing with the roadrunner advance\n",
    "    seg = roadrunner.segments[roadrunner._segment_ptr]\n",
    "    pt = np.asfortranarray(roadrunner.to_body_frame(np.reshape(x_true[0:2,k+1],(1,2)), seg.transform_angle, seg.transform_offset))\n",
    "    \n",
    "    (s_new,_) = roadrunner.find_closest_pt(seg.curve,\n",
    "                                        np.reshape(pt,(2,1)),\n",
    "                                          start=roadrunner.current_pct,\n",
    "                                          end=roadrunner.current_pct + 0.1)\n",
    "    delta_s = s_new - roadrunner.current_pct\n",
    "    \n",
    "    pts_new[k,0:2] = roadrunner.evaluate(delta_s*roadrunner.segments[roadrunner._segment_ptr].curve.length)\n",
    "    \n",
    "    #roadrunner.advance(step_xy*(1))\n",
    "    # hack hack hack\n",
    "    if roadrunner.current_pct + delta_s > seg.end_pct:\n",
    "        delta_xy = (seg.end_pct - roadrunner.current_pct)*seg.curve.length + \\\n",
    "                   (delta_s - (seg.end_pct - roadrunner.current_pct))*roadrunner.segments[roadrunner._segment_ptr+1].curve.length\n",
    "    else:\n",
    "        delta_xy = delta_s*seg.curve.length\n",
    "    roadrunner.advance(delta_xy) # doesn't work??\n",
    "    pts_new[k,2] = delta_xy\n",
    "    pts_old[k,0:2] = roadrunner.evaluate()\n",
    "    pts_old[k,2] = step_xy\n",
    "    \n",
    "    \n",
    "    # Plot arrows and x-y states\n",
    "    ax_traj.clear()\n",
    "    #ax_traj.quiver(x_true[0,:k], x_true[1,:k], x_true[2,:k]*np.cos(x_true[3,:k]), x_true[2,:k]*np.sin(x_true[3,:k]), color=\"blue\")\n",
    "    ax_traj.scatter(x_true[0,:k], x_true[1,:k], color=\"navy\")\n",
    "    xy = np.reshape(roadrunner.evaluate(),(2,1))\n",
    "    ax_traj.scatter(xy[0], xy[1], color=\"red\")\n",
    "    # Plot the polygon fill\n",
    "    ax_traj.fill(polygon_boundaries[k,:,0], polygon_boundaries[k,:,1], \"lightblue\", alpha=0.5)\n",
    "    # Plot the line around each polygon\n",
    "    ax_traj.plot(np.concatenate([polygon_boundaries[k,:,0],polygon_boundaries[k,0:1,0]]),\n",
    "            np.concatenate([polygon_boundaries[k,:,1],polygon_boundaries[k,0:1,1]]),\n",
    "            color=\"navy\", alpha=0.5)\n",
    "\n",
    "    # Plot the plan\n",
    "    ax_traj.scatter(xk_opt[0], xk_opt[1], color=\"orange\")\n",
    "\n",
    "    fig_traj.canvas.draw()\n",
    "    # Done!\n",
    "    \n",
    "roadrunner.plot(ax=ax_traj)\n",
    "fig_traj.canvas.draw()\n"
   ]
  },
  {
   "cell_type": "code",
   "execution_count": null,
   "metadata": {
    "scrolled": true
   },
   "outputs": [],
   "source": [
    "# turn interactive off\n",
    "plt.ioff()\n",
    "# FOR PLOTTING: We also want to include the polygons for the lookahead steps k=1,...,N.\n",
    "polygon_boundaries[n_runs-1:n_runs+mpcprob.model.N+2,:,:] = mpcprob.p_plot"
   ]
  },
  {
   "cell_type": "markdown",
   "metadata": {},
   "source": [
    "## Control signals: acceleration and steering angle"
   ]
  },
  {
   "cell_type": "code",
   "execution_count": null,
   "metadata": {
    "scrolled": true
   },
   "outputs": [],
   "source": [
    "u_plt, u_ax1, u_ax2 = car.plot_u(u_plan, mpcprob.u_opt)\n",
    "plt.show()"
   ]
  },
  {
   "cell_type": "markdown",
   "metadata": {},
   "source": [
    "## x-y plot of car's path\n",
    "Arrows show velocity. Orange components are planned but not executed."
   ]
  },
  {
   "cell_type": "code",
   "execution_count": null,
   "metadata": {
    "scrolled": true
   },
   "outputs": [],
   "source": [
    "x_plt, x_ax = car.plot_x(x_plan, mpcprob.x_opt)\n",
    "    \n",
    "roadrunner.plot(ax=x_ax)\n",
    "x_ax.scatter(ic[0], ic[1], color=\"green\")\n",
    "plt.show()"
   ]
  },
  {
   "cell_type": "markdown",
   "metadata": {},
   "source": [
    "## x vs time and y vs time, separately, with the boundaries"
   ]
  },
  {
   "cell_type": "code",
   "execution_count": null,
   "metadata": {},
   "outputs": [],
   "source": [
    "# Plot the road boundary as polygons\n",
    "def plot_polygons(polygon_boundaries, ax=None):\n",
    "    n_polys,_,_ = np.shape(polygon_boundaries)\n",
    "    \n",
    "    if ax is None:\n",
    "        fig, ax = plt.subplots(1,1,figsize=(12,4))\n",
    "        \n",
    "    for k in range(n_polys):\n",
    "        # Plot the polygon fill\n",
    "        ax.fill(polygon_boundaries[k,:,0], polygon_boundaries[k,:,1], \"lightblue\", alpha=0.1+(k/(n_polys)/2))\n",
    "        # Plot the line around each polygon\n",
    "        ax.plot(np.concatenate([polygon_boundaries[k,:,0],polygon_boundaries[k,0:1,0]]),\n",
    "                np.concatenate([polygon_boundaries[k,:,1],polygon_boundaries[k,0:1,1]]),\n",
    "                color=\"navy\", alpha=0.1+k/(n_polys)/2)\n",
    "\n",
    "    # Plot the last polygon in RED\n",
    "    ax.plot(np.concatenate([polygon_boundaries[-1,:,0],polygon_boundaries[-1,0:1,0]]),\n",
    "            np.concatenate([polygon_boundaries[-1,:,1],polygon_boundaries[-1,0:1,1]]),\n",
    "            color=\"red\", alpha=1)\n",
    "    return ax\n",
    "\n",
    "ax = plot_polygons(polygon_boundaries)\n",
    "ax.scatter(test_road[0:15,0], test_road[0:15,1], color='red')\n",
    "ax.scatter(ic[0], ic[1], color=\"green\")\n",
    "plt.title(\"Polygon boundaries along road\")\n",
    "roadrunner.plot(ax=ax)\n",
    "plt.show()"
   ]
  },
  {
   "cell_type": "code",
   "execution_count": null,
   "metadata": {},
   "outputs": [],
   "source": []
  }
 ],
 "metadata": {
  "@webio": {
   "lastCommId": null,
   "lastKernelId": null
  },
  "kernelspec": {
   "display_name": "Python 3",
   "language": "python",
   "name": "python3"
  },
  "language_info": {
   "codemirror_mode": {
    "name": "ipython",
    "version": 3
   },
   "file_extension": ".py",
   "mimetype": "text/x-python",
   "name": "python",
   "nbconvert_exporter": "python",
   "pygments_lexer": "ipython3",
   "version": "3.7.4"
  }
 },
 "nbformat": 4,
 "nbformat_minor": 2
}
