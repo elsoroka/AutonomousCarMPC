{
 "cells": [
  {
   "cell_type": "code",
   "execution_count": null,
   "metadata": {},
   "outputs": [],
   "source": [
    "import numpy as np\n",
    "import matplotlib.pyplot as plt\n",
    "# data files\n",
    "from data.run_1_stop_data import *\n",
    "from data.run_2_stop_data import *\n",
    "from data.run_3_stop_data import *\n",
    "from data.run_35_stop_data import * # this is a \"halfway\" run between 3 and 4\n",
    "from data.run_4_stop_data import *\n",
    "from data.run_5_stop_data import *\n",
    "from data.run_6_stop_data import *\n",
    "from data.run_7_stop_data import *"
   ]
  },
  {
   "cell_type": "code",
   "execution_count": null,
   "metadata": {},
   "outputs": [],
   "source": [
    "# stop sign test\n",
    "stop_sign = (30.0,1.0) # x,y\n",
    "initial = np.array([6.0, 1.0, 4.0, 0.0])\n",
    "DESIRED_SPEED = 4.0 # m/s\n",
    "\n",
    "def dist_to_stop_line(xy):\n",
    "    x0, y0 = stop_sign\n",
    "    x,y = xy\n",
    "    dist = np.sqrt((y-y0)**2 + (x-x0)**2)*np.cos(np.arctan2(y0-y, x0-x))\n",
    "    return dist\n",
    "\n",
    "stop_dist = 0.0 # meters, distance to stop sign when we should stop\n",
    "\n",
    "def desired_speed(k:int, xy:np.array):\n",
    "    xy = np.reshape(xy, (2,))\n",
    "    dist = dist_to_stop_line(xy)\n",
    "    if dist > 10:\n",
    "        return DESIRED_SPEED\n",
    "    else:\n",
    "        return np.max([0, DESIRED_SPEED*(dist-stop_dist)/10.0])\n"
   ]
  },
  {
   "cell_type": "code",
   "execution_count": null,
   "metadata": {
    "scrolled": true
   },
   "outputs": [],
   "source": [
    "fig1, ax1 = plt.subplots(1,1, figsize=(12,4))\n",
    "T=0.075\n",
    "ax1.plot(T*np.arange(0, np.size(run_1_stop_u[:,0])), run_1_stop_u[:,0], label=\"a=1\", color=\"red\", linewidth=3)\n",
    "ax1.plot(T*np.arange(0, np.size(run_2_stop_u[:,0])), run_2_stop_u[:,0], label=\"a=5\", color=\"orange\")\n",
    "ax1.plot(T*np.arange(0, np.size(run_3_stop_u[:,0])), run_3_stop_u[:,0], label=\"a=10\", color=\"chartreuse\")\n",
    "ax1.plot(T*np.arange(0, np.size(run_35_stop_u[:,0])), run_35_stop_u[:,0], label=\"a=25\", color=\"green\")\n",
    "ax1.plot(T*np.arange(0, np.size(run_4_stop_u[:,0])), run_4_stop_u[:,0], label=\"a=50\", color=\"cornflowerblue\")\n",
    "ax1.plot(T*np.arange(0, np.size(run_5_stop_u[:,0])), run_5_stop_u[:,0], label=\"a=100\", color=\"darkblue\")\n",
    "ax1.plot(T*np.arange(0, np.size(run_6_stop_u[:,0])), run_6_stop_u[:,0], label=\"a=500\", color=\"purple\")\n",
    "ax1.plot(T*np.arange(0, np.size(run_7_stop_u[:,0])), run_7_stop_u[:,0], label=\"a=1000\", color=\"magenta\")\n",
    "\n",
    "plt.legend()\n",
    "plt.xlabel(\"Time (s)\"); plt.ylabel(\"Acceleration (m/s^2)\")\n",
    "plt.savefig(\"Acceleration(stop).pdf\")"
   ]
  },
  {
   "cell_type": "code",
   "execution_count": null,
   "metadata": {},
   "outputs": [],
   "source": [
    "# Take the derivative\n",
    "def dot(data:np.array, T:float):\n",
    "    time = T*np.arange(0, np.size(data)-1)\n",
    "    ddata = (data[:-1] - data[1:])/T\n",
    "    return (time, ddata)\n",
    "\n",
    "print(np.shape(run_6_stop_u))\n",
    "fig1, ax1 = plt.subplots(1,1, figsize=(12,4))\n",
    "ax1.plot(*dot(run_7_stop_u[:,0], T), label=\"a=1000\", color=\"magenta\", linewidth=3)\n",
    "ax1.plot(*dot(run_6_stop_u[:,0], T), label=\"a=500\", color=\"purple\")\n",
    "ax1.plot(*dot(run_5_stop_u[:,0], T), label=\"a=100\", color=\"darkblue\")\n",
    "ax1.plot(*dot(run_4_stop_u[:,0], T), label=\"a=50\", color=\"cornflowerblue\")\n",
    "ax1.plot(*dot(run_35_stop_u[:,0], T), label=\"a=25\", color=\"green\")\n",
    "ax1.plot(*dot(run_3_stop_u[:,0], T), label=\"a=10\", color=\"chartreuse\")\n",
    "ax1.plot(*dot(run_2_stop_u[:,0], T), label=\"a=5\", color=\"orange\")\n",
    "ax1.plot(*dot(run_1_stop_u[:,0], T), label=\"a=1\", color=\"red\")\n",
    "\n",
    "plt.legend()\n",
    "plt.xlabel(\"Time (s)\"); plt.ylabel(\"Jerk (m/s^3)\")\n",
    "plt.savefig(\"Jerk(stop).pdf\")"
   ]
  },
  {
   "cell_type": "code",
   "execution_count": null,
   "metadata": {},
   "outputs": [],
   "source": [
    "t, y = dot(run_7_stop_u[:,0], T); print(\"a=1000\", \"total\", np.trapz(y, x=t), \"peak\", np.max(y))\n",
    "t, y = dot(run_6_stop_u[:,0], T); print(\"a=500\", \"total\", np.trapz(y, x=t),\"peak\", np.max(y))\n",
    "t, y = dot(run_5_stop_u[:,0], T); print(\"a=100\", \"total\", np.trapz(y, x=t),\"peak\", np.max(y))\n",
    "t, y = dot(run_4_stop_u[:,0], T); print(\"a=50\",  \"total\", np.trapz(y, x=t), \"peak\", np.max(y))\n",
    "t, y = dot(run_35_stop_u[:,0], T); print(\"a=25\", \"total\", np.trapz(y, x=t), \"peak\", np.max(y))\n",
    "t, y = dot(run_3_stop_u[:,0], T); print(\"a=10\", \"total\", np.trapz(y, x=t), \"peak\", np.max(y))\n",
    "t, y = dot(run_2_stop_u[:,0], T); print(\"a=5\", \"total\", np.trapz(y, x=t), \"peak\", np.max(y))\n",
    "t, y = dot(run_1_stop_u[:,0], T); print(\"a=1\", \"total\", np.trapz(y, x=t), \"peak\", np.max(y))"
   ]
  },
  {
   "cell_type": "code",
   "execution_count": null,
   "metadata": {},
   "outputs": [],
   "source": [
    "fig2, ax2 = plt.subplots(1,1, figsize=(12,4))\n",
    "v_des = np.zeros(np.size(run_1_stop[:,2]))\n",
    "pos = np.copy(initial[0:2])\n",
    "for i in range(v_des.size):\n",
    "    v_des[i] = desired_speed(i, pos)\n",
    "    pos[0] += v_des[i]*T\n",
    "\n",
    "T=0.075\n",
    "ax2.plot(T*np.arange(0, np.size(v_des)), v_des, label=\"Guess\", color=\"black\", linestyle=\"--\", linewidth=2)\n",
    "ax2.plot(T*np.arange(0, np.size(run_7_stop[:,2])), run_7_stop[:,2], label=\"a=1000\", color=\"magenta\", linewidth=3)\n",
    "ax2.plot(T*np.arange(0, np.size(run_6_stop[:,2])), run_6_stop[:,2], label=\"a=500\", color=\"purple\")\n",
    "ax2.plot(T*np.arange(0, np.size(run_5_stop[:,2])), run_5_stop[:,2], label=\"a=100\", color=\"darkblue\")\n",
    "ax2.plot(T*np.arange(0, np.size(run_4_stop[:,2])), run_4_stop[:,2], label=\"a=50\", color=\"cornflowerblue\")\n",
    "ax2.plot(T*np.arange(0, np.size(run_35_stop[:,2])), run_35_stop[:,2], label=\"a=25\", color=\"green\")\n",
    "ax2.plot(T*np.arange(0, np.size(run_3_stop[:,2])), run_3_stop[:,2], label=\"a=10\", color=\"chartreuse\")\n",
    "ax2.plot(T*np.arange(0, np.size(run_2_stop[:,2])), run_2_stop[:,2], label=\"a=5\", color=\"orange\")\n",
    "ax2.plot(T*np.arange(0, np.size(run_1_stop[:,2])), run_1_stop[:,2], label=\"a=1\", color=\"red\")\n",
    "\n",
    "plt.legend()\n",
    "plt.xlabel(\"Time (s)\"); plt.ylabel(\"Velocity (m/s)\")\n",
    "plt.savefig(\"Velocity_time(stop).pdf\")"
   ]
  },
  {
   "cell_type": "code",
   "execution_count": null,
   "metadata": {},
   "outputs": [],
   "source": [
    "fig2, ax2 = plt.subplots(1,1, figsize=(12,4))\n",
    "v_des = np.zeros((np.size(run_1_stop[:,2]), 2))\n",
    "pos = np.copy(initial[0:2])\n",
    "v_des[0,0] = pos[0]\n",
    "for i in range(v_des.size//2):\n",
    "    v_des[i,1] = desired_speed(i, pos)\n",
    "    if i > 0:\n",
    "        v_des[i,0] = v_des[i-1,0] + T*v_des[i-1,1]\n",
    "    pos[0] += v_des[i,1]*T\n",
    "\n",
    "ax2.plot(v_des[:,0], v_des[:,1], label=\"Guess\", color=\"black\", linestyle=\"--\", linewidth=2)\n",
    "ax2.plot(run_7_stop[:,0], run_7_stop[:,2], label=\"a=1000\", color=\"magenta\", linewidth=3)\n",
    "ax2.plot(run_6_stop[:,0], run_6_stop[:,2], label=\"a=500\", color=\"purple\")\n",
    "ax2.plot(run_5_stop[:,0], run_5_stop[:,2], label=\"a=100\", color=\"darkblue\")\n",
    "ax2.plot(run_4_stop[:,0], run_4_stop[:,2], label=\"a=50\", color=\"cornflowerblue\")\n",
    "ax2.plot(run_35_stop[:,0], run_35_stop[:,2], label=\"a=25\", color=\"green\")\n",
    "ax2.plot(run_3_stop[:,0], run_3_stop[:,2], label=\"a=10\", color=\"chartreuse\")\n",
    "ax2.plot(run_2_stop[:,0], run_2_stop[:,2], label=\"a=5\", color=\"orange\")\n",
    "ax2.plot(run_1_stop[:,0], run_1_stop[:,2], label=\"a=1\", color=\"red\")\n",
    "\n",
    "plt.legend()\n",
    "plt.xlabel(\"Position (m)\"); plt.ylabel(\"Velocity (m/s)\")\n",
    "plt.savefig(\"Velocity_position(stop).pdf\")"
   ]
  },
  {
   "cell_type": "code",
   "execution_count": null,
   "metadata": {},
   "outputs": [],
   "source": [
    "fig2, ax2 = plt.subplots(1,1, figsize=(12,4))\n",
    "\n",
    "ax2.plot(T*np.arange(0, np.size(v_des[:,0])), v_des[:,0], label=\"Guess\", color=\"black\", linestyle=\"--\", linewidth=2)\n",
    "ax2.plot(T*np.arange(0, np.size(run_7_stop[:,2])), run_7_stop[:,0], label=\"a=1000\", color=\"magenta\")\n",
    "ax2.plot(T*np.arange(0, np.size(run_6_stop[:,2])), run_6_stop[:,0], label=\"a=500\", color=\"purple\")\n",
    "ax2.plot(T*np.arange(0, np.size(run_5_stop[:,2])), run_5_stop[:,0], label=\"a=100\", color=\"darkblue\")\n",
    "ax2.plot(T*np.arange(0, np.size(run_4_stop[:,2])), run_4_stop[:,0], label=\"a=50\", color=\"cornflowerblue\")\n",
    "ax2.plot(T*np.arange(0, np.size(run_35_stop[:,2])), run_35_stop[:,0], label=\"a=25\", color=\"green\")\n",
    "ax2.plot(T*np.arange(0, np.size(run_3_stop[:,2])), run_3_stop[:,0], label=\"a=10\", color=\"chartreuse\")\n",
    "ax2.plot(T*np.arange(0, np.size(run_2_stop[:,2])), run_2_stop[:,0], label=\"a=5\", color=\"orange\")\n",
    "ax2.plot(T*np.arange(0, np.size(run_1_stop[:,2])), run_1_stop[:,0], label=\"a=1\", color=\"red\")\n",
    "\n",
    "plt.legend()\n",
    "plt.xlabel(\"Time (s)\"); plt.ylabel(\"Position (m/s)\")\n",
    "plt.savefig(\"Position_time(stop).pdf\")\n",
    "# The ability of the actuators to give some arbitrary resolution is limited so in real life we wouldn't have this creeping-up behavior\n",
    "# where the car takes a long time to reach the stop sign\n",
    "# this is partially due to friction but the actuators is a better explanation\n",
    "# friction is partially compensated by lower level control loops\n",
    "# we are limited by the sensors and actuators, not the actual friction."
   ]
  },
  {
   "cell_type": "markdown",
   "metadata": {},
   "source": [
    "## Lanechange test runs"
   ]
  },
  {
   "cell_type": "code",
   "execution_count": null,
   "metadata": {},
   "outputs": [],
   "source": [
    "# data files\n",
    "from data.run_1_data import *\n",
    "from data.run_2_data import *\n",
    "from data.run_3_data import *\n",
    "from data.run_4_data import *\n",
    "from data.run_5_data import *\n",
    "from data.run_6_data import *\n",
    "from data.run_7_data import *"
   ]
  },
  {
   "cell_type": "code",
   "execution_count": null,
   "metadata": {},
   "outputs": [],
   "source": [
    "fig3, ax3 = plt.subplots(1,1, figsize=(12,4))\n",
    "\n",
    "v_des = np.ones(np.size(run_1[:,2]))*10.0\n",
    "\n",
    "T=0.075\n",
    "ax3.plot(T*np.arange(0, np.size(v_des)), v_des, label=\"Guess\", color=\"black\", linestyle=\"--\", linewidth=2)\n",
    "ax3.plot(T*np.arange(0, np.size(run_7[:,2])), run_7[:,2], label=\"a=1000\", color=\"magenta\")\n",
    "ax3.plot(T*np.arange(0, np.size(run_6[:,2])), run_6[:,2], label=\"a=500\", color=\"purple\")\n",
    "ax3.plot(T*np.arange(0, np.size(run_5[:,2])), run_5[:,2], label=\"a=100\", color=\"blue\")\n",
    "ax3.plot(T*np.arange(0, np.size(run_4[:,2])), run_4[:,2], label=\"a=50\", color=\"green\")\n",
    "ax3.plot(T*np.arange(0, np.size(run_3[:,2])), run_3[:,2], label=\"a=10\", color=\"chartreuse\")\n",
    "ax3.plot(T*np.arange(0, np.size(run_2[:,2])), run_2[:,2], label=\"a=5\", color=\"orange\")\n",
    "ax3.plot(T*np.arange(0, np.size(run_1[:,2])), run_1[:,2], label=\"a=1\", color=\"red\")\n",
    "plt.legend()\n",
    "plt.xlabel(\"Time (s)\"); plt.ylabel(\"Velocity (m/s)\")\n",
    "plt.savefig(\"Velocity(stop).pdf\")\n",
    "plt.ylim(9.95, 10.05)"
   ]
  },
  {
   "cell_type": "code",
   "execution_count": null,
   "metadata": {},
   "outputs": [],
   "source": [
    "fig4, ax4 = plt.subplots(1,1, figsize=(12,4))\n",
    "T=0.075\n",
    "time = T*np.arange(0, np.size(run_1_u[:,1]))\n",
    "ax4.plot(T*np.arange(0, np.size(run_7_u[:,1])), 180.0/np.pi*run_7_u[:,1], label=\"a=1000\", color=\"magenta\")\n",
    "ax4.plot(T*np.arange(0, np.size(run_6_u[:,1])), 180.0/np.pi*run_6_u[:,1], label=\"a=500\", color=\"purple\")\n",
    "ax4.plot(T*np.arange(0, np.size(run_5_u[:,1])), 180.0/np.pi*run_5_u[:,1], label=\"a=100\", color=\"blue\")\n",
    "ax4.plot(T*np.arange(0, np.size(run_4_u[:,1])), 180.0/np.pi*run_4_u[:,1], label=\"a=50\", color=\"green\")\n",
    "ax4.plot(T*np.arange(0, np.size(run_3_u[:,1])), 180.0/np.pi*run_3_u[:,1], label=\"a=10\", color=\"chartreuse\")\n",
    "ax4.plot(T*np.arange(0, np.size(run_2_u[:,1])), 180.0/np.pi*run_2_u[:,1], label=\"a=5\", color=\"orange\")\n",
    "ax4.plot(T*np.arange(0, np.size(run_1_u[:,1])), 180.0/np.pi*run_1_u[:,1], label=\"a=1\", color=\"red\")\n",
    "plt.legend()\n",
    "plt.xlabel(\"Time (s)\"); plt.ylabel(\"Steering angle (deg)\")\n",
    "plt.savefig(\"Steering(lanechange).pdf\")"
   ]
  },
  {
   "cell_type": "markdown",
   "metadata": {},
   "source": [
    "### Position error"
   ]
  },
  {
   "cell_type": "code",
   "execution_count": null,
   "metadata": {},
   "outputs": [],
   "source": [
    "from roadrunner_2 import Roadrunner\n",
    "from road import iso_double_lane_change as test_road\n",
    "test_road_width = 5.0*np.ones(np.size(test_road)//2)\n",
    "DESIRED_SPEED=10.0\n",
    "\n",
    "roadrunner = Roadrunner(road_center = test_road, # Road centerline points\n",
    "                        road_width  = test_road_width,\n",
    "                        P           = np.size(test_road_width)-1,\n",
    "                       start_pct = 0.0, end_pct = 1.0) # Number of points to try curve-fitting at a time\n",
    "roadrunner.reset()\n",
    "# start a bit ahead of the first point to have space for looking back on the road\n",
    "roadrunner.advance(T*20*DESIRED_SPEED)"
   ]
  },
  {
   "cell_type": "code",
   "execution_count": null,
   "metadata": {},
   "outputs": [],
   "source": [
    "def error(run_n:np.array):\n",
    "    err = np.zeros(np.size(run_n[:,0]))\n",
    "    for i in range(err.size):\n",
    "        xy = run_n[i,0:2]\n",
    "        s = roadrunner.find_closest(xy)\n",
    "        xy_c = roadrunner.evaluate(s, is_pct=True)\n",
    "        err[i] = np.linalg.norm(xy_c-xy, 2)\n",
    "    return err\n",
    "\n",
    "\n",
    "err_1 = error(run_1)\n",
    "err_2 = error(run_2)\n",
    "err_3 = error(run_3)\n",
    "err_4 = error(run_4)\n",
    "err_5 = error(run_5)\n",
    "err_6 = error(run_6)\n",
    "err_7 = error(run_7)"
   ]
  },
  {
   "cell_type": "code",
   "execution_count": null,
   "metadata": {
    "scrolled": true
   },
   "outputs": [],
   "source": [
    "fig5, ax5 = plt.subplots(1,1, figsize=(12,3))\n",
    "ax5.plot(T*np.arange(0, np.size(err_7)), err_7, label=\"a=1000\", color=\"magenta\")\n",
    "ax5.plot(T*np.arange(0, np.size(err_6)), err_6, label=\"a=500\", color=\"purple\")\n",
    "ax5.plot(T*np.arange(0, np.size(err_5)), err_5, label=\"a=100\", color=\"blue\")\n",
    "ax5.plot(T*np.arange(0, np.size(err_4)), err_4, label=\"a=50\", color=\"green\")\n",
    "ax5.plot(T*np.arange(0, np.size(err_3)), err_3, label=\"a=10\", color=\"chartreuse\")\n",
    "ax5.plot(T*np.arange(0, np.size(err_2)), err_2, label=\"a=5\", color=\"orange\")\n",
    "ax5.plot(T*np.arange(0, np.size(err_1)), err_1, label=\"a=1\", color=\"red\")\n",
    "plt.legend()\n",
    "plt.xlabel(\"Time (s)\"); plt.ylabel(\"Position error norm (m)\")\n",
    "plt.savefig(\"Position error(lanechange).pdf\")"
   ]
  },
  {
   "cell_type": "code",
   "execution_count": null,
   "metadata": {},
   "outputs": [],
   "source": [
    "# Get the road boundaries\n",
    "npoints = 100\n",
    "boundaries = np.zeros((npoints,4))\n",
    "roadrunner.reset()\n",
    "step = roadrunner.segments[roadrunner._segment_ptr].curve.length/(npoints+1)\n",
    "for i in range(npoints):\n",
    "    xy, angle, width = roadrunner.evaluate(full_data=True)\n",
    "    xy_up = xy.T; xy_down = np.copy(xy_up)\n",
    "    xy_up += width*np.array([np.cos(np.pi/2.0-angle), np.sin(np.pi/2.0-angle)])\n",
    "    \n",
    "    xy_down += width*np.array([np.cos(-np.pi/2.0-angle), np.sin(-np.pi/2.0-angle)])\n",
    "    boundaries[i,0:2] = xy_up.T\n",
    "    boundaries[i, 2:] = xy_down.T\n",
    "    roadrunner.advance(step)\n",
    "    \n",
    "road = np.zeros((npoints*2+2, 2))\n",
    "road[0,0] = boundaries[0,0]; road[0,1] = boundaries[0,3]\n",
    "road[1:npoints+1, :] = boundaries[:,0:2]\n",
    "road[npoints+1:2*npoints+1, :] = np.flip(boundaries[:,2:], axis=0)\n",
    "road[-1,:] = road[0,:]"
   ]
  },
  {
   "cell_type": "code",
   "execution_count": null,
   "metadata": {},
   "outputs": [],
   "source": [
    "fig6, ax6 = plt.subplots(1,1, figsize=(12, 4))\n",
    "ax6.plot(road[:,0], road[:,1], color=\"darkgrey\", linewidth=2)\n",
    "ax6.fill(road[:,0], road[:,1], color=\"#cccccc\")\n",
    "ax6.plot(run_7[:,0], run_7[:,1], label=\"a=1000\", color=\"magenta\")\n",
    "ax6.plot(run_6[:,0], run_6[:,1], label=\"a=500\", color=\"purple\")\n",
    "ax6.plot(run_5[:,0], run_5[:,1], label=\"a=100\", color=\"blue\")\n",
    "ax6.plot(run_4[:,0], run_4[:,1], label=\"a=50\", color=\"green\")\n",
    "ax6.plot(run_3[:,0], run_3[:,1], label=\"a=10\", color=\"chartreuse\")\n",
    "ax6.plot(run_2[:,0], run_2[:,1], label=\"a=5\", color=\"orange\")\n",
    "ax6.plot(run_1[:,0], run_1[:,1], label=\"a=1\", color=\"red\")\n",
    "plt.legend()\n",
    "plt.xlabel(\"x position (m)\"); plt.ylabel(\"y position (m)\")\n",
    "plt.xlim([-50, 175])\n",
    "plt.savefig(\"Trajectories(lanechange).pdf\")"
   ]
  },
  {
   "cell_type": "code",
   "execution_count": null,
   "metadata": {},
   "outputs": [],
   "source": []
  }
 ],
 "metadata": {
  "@webio": {
   "lastCommId": null,
   "lastKernelId": null
  },
  "kernelspec": {
   "display_name": "Python 3",
   "language": "python",
   "name": "python3"
  },
  "language_info": {
   "codemirror_mode": {
    "name": "ipython",
    "version": 3
   },
   "file_extension": ".py",
   "mimetype": "text/x-python",
   "name": "python",
   "nbconvert_exporter": "python",
   "pygments_lexer": "ipython3",
   "version": "3.7.4"
  }
 },
 "nbformat": 4,
 "nbformat_minor": 2
}
